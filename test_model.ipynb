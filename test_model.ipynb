{
 "cells": [
  {
   "cell_type": "code",
   "execution_count": 1,
   "metadata": {},
   "outputs": [
    {
     "name": "stderr",
     "output_type": "stream",
     "text": [
      "[nltk_data] Downloading package stopwords to\n",
      "[nltk_data]     /Users/valeriainsogna/nltk_data...\n",
      "[nltk_data]   Package stopwords is already up-to-date!\n"
     ]
    }
   ],
   "source": [
    "from utils.functions import *\n",
    "from bim import *"
   ]
  },
  {
   "cell_type": "code",
   "execution_count": 2,
   "metadata": {},
   "outputs": [],
   "source": [
    "with open(\"data/preprocessed/articles.pkl\", \"rb\") as f:\n",
    "    articles = pickle.load(f)\n",
    "\n",
    "with open(\"data/preprocessed/queries.pkl\", \"rb\") as f:\n",
    "    queries = pickle.load(f)\n",
    "\n",
    "with open(\"data/preprocessed/relevance.pkl\", \"rb\") as f:\n",
    "    relevance = pickle.load(f)\n",
    "\n",
    "with open(\"index.pkl\", \"rb\") as f:\n",
    "    bim = pickle.load(f)"
   ]
  },
  {
   "cell_type": "code",
   "execution_count": 3,
   "metadata": {},
   "outputs": [],
   "source": [
    "# choose a query number\n",
    "n=11"
   ]
  },
  {
   "cell_type": "code",
   "execution_count": 4,
   "metadata": {},
   "outputs": [
    {
     "name": "stdout",
     "output_type": "stream",
     "text": [
      "Position: 1, Doc id: 623, RSV score: 14.777\n",
      "Position: 2, Doc id: 965, RSV score: 12.452\n",
      "Position: 3, Doc id: 791, RSV score: 10.997\n",
      "Position: 4, Doc id: 649, RSV score: 10.693\n",
      "Position: 5, Doc id: 1231, RSV score: 10.232\n",
      "Position: 6, Doc id: 324, RSV score: 9.722\n",
      "Position: 7, Doc id: 938, RSV score: 8.672\n",
      "Position: 8, Doc id: 328, RSV score: 8.612\n",
      "Position: 9, Doc id: 916, RSV score: 8.612\n",
      "Position: 10, Doc id: 716, RSV score: 8.169\n"
     ]
    }
   ],
   "source": [
    "bim.print_first_k_rel_docs(queries[n])"
   ]
  },
  {
   "cell_type": "code",
   "execution_count": 5,
   "metadata": {},
   "outputs": [
    {
     "name": "stdout",
     "output_type": "stream",
     "text": [
      "The precision is: 0.1, the recall is: 0.2\n"
     ]
    }
   ],
   "source": [
    "bim.precision_recall(queries[n], relevance[n])"
   ]
  },
  {
   "cell_type": "code",
   "execution_count": 6,
   "metadata": {},
   "outputs": [
    {
     "name": "stdout",
     "output_type": "stream",
     "text": [
      "Position: 1, Doc id: 623, RSV score: 10.715\n",
      "Position: 2, Doc id: 324, RSV score: 7.464\n",
      "Position: 3, Doc id: 965, RSV score: 7.391\n",
      "Position: 4, Doc id: 1231, RSV score: 7.207\n",
      "Position: 5, Doc id: 716, RSV score: 6.804\n",
      "Position: 6, Doc id: 649, RSV score: 6.57\n",
      "Position: 7, Doc id: 505, RSV score: 5.988\n",
      "Position: 8, Doc id: 791, RSV score: 5.868\n",
      "Position: 9, Doc id: 738, RSV score: 5.826\n",
      "Position: 10, Doc id: 809, RSV score: 5.483\n",
      "Position: 11, Doc id: 1167, RSV score: 5.483\n",
      "Position: 12, Doc id: 275, RSV score: 5.429\n",
      "Position: 13, Doc id: 85, RSV score: 5.123\n",
      "Position: 14, Doc id: 555, RSV score: 5.123\n",
      "Position: 15, Doc id: 556, RSV score: 5.123\n"
     ]
    }
   ],
   "source": [
    "bim.relevance_feedback(queries[n], relevance[n],15)"
   ]
  },
  {
   "cell_type": "code",
   "execution_count": 7,
   "metadata": {},
   "outputs": [
    {
     "name": "stdout",
     "output_type": "stream",
     "text": [
      "The precision is: 0.1, the recall is: 0.2\n"
     ]
    }
   ],
   "source": [
    "bim.precision_recall(queries[n], relevance[n])"
   ]
  },
  {
   "cell_type": "code",
   "execution_count": 8,
   "metadata": {},
   "outputs": [
    {
     "name": "stdout",
     "output_type": "stream",
     "text": [
      "The precision is: 0.0, the recall is: 0.0\n"
     ]
    }
   ],
   "source": [
    "bim.precision_recall(queries[13], relevance[13])"
   ]
  },
  {
   "cell_type": "code",
   "execution_count": 9,
   "metadata": {},
   "outputs": [
    {
     "name": "stdout",
     "output_type": "stream",
     "text": [
      "Position: 1, Doc id: 169, RSV score: 11.69\n",
      "Position: 2, Doc id: 328, RSV score: 11.69\n",
      "Position: 3, Doc id: 438, RSV score: 11.69\n",
      "Position: 4, Doc id: 24, RSV score: 8.171\n",
      "Position: 5, Doc id: 63, RSV score: 8.171\n",
      "Position: 6, Doc id: 191, RSV score: 8.171\n",
      "Position: 7, Doc id: 255, RSV score: 8.171\n",
      "Position: 8, Doc id: 264, RSV score: 8.171\n",
      "Position: 9, Doc id: 290, RSV score: 8.171\n",
      "Position: 10, Doc id: 295, RSV score: 8.171\n"
     ]
    }
   ],
   "source": [
    "bim.pseudo_relevance_feedback(queries[13],k=2)"
   ]
  },
  {
   "cell_type": "code",
   "execution_count": 10,
   "metadata": {},
   "outputs": [
    {
     "name": "stdout",
     "output_type": "stream",
     "text": [
      "The precision is: 0.1, the recall is: 0.5\n"
     ]
    }
   ],
   "source": [
    "bim.precision_recall(queries[13], relevance[13])"
   ]
  },
  {
   "cell_type": "code",
   "execution_count": 11,
   "metadata": {},
   "outputs": [
    {
     "name": "stdout",
     "output_type": "stream",
     "text": [
      "The mean average precision is: 0.243\n"
     ]
    }
   ],
   "source": [
    "bim.mean_average_precision(list(range(29)), queries, relevance)"
   ]
  },
  {
   "cell_type": "code",
   "execution_count": 12,
   "metadata": {},
   "outputs": [
    {
     "name": "stdout",
     "output_type": "stream",
     "text": [
      "The R-precision is: 0.5\n"
     ]
    }
   ],
   "source": [
    "bim.r_precision(queries[2], relevance[2])"
   ]
  },
  {
   "cell_type": "code",
   "execution_count": 13,
   "metadata": {},
   "outputs": [
    {
     "name": "stdout",
     "output_type": "stream",
     "text": [
      "some structural and aerelastic considerations of high speed flight the dominating factors in structural design of highspeed aircraft are thermal and aeroelastic in origin the subject matter is concerned largely with a discussion of these factors and their interrelation with one another a summary is presented of some of the analytical and experimental tools available to aeronautical engineers to meet the demands of highspeed flight upon aircraft structures the state of the art with respect to heat transfer from the boundary layer into the structure modes of failure under combined load as well as thermal inputs and acrothermoelasticity is discussed methods of attacking and alleviating structural and aeroelastic problems of highspeed flight are summarized finally some avenues of fundamental research are suggested\n"
     ]
    }
   ],
   "source": [
    "print_article(articles[n])"
   ]
  },
  {
   "cell_type": "code",
   "execution_count": 14,
   "metadata": {},
   "outputs": [
    {
     "name": "stdout",
     "output_type": "stream",
     "text": [
      "Position: 1, Doc id: 11, RSV score: 11.799\n",
      "Position: 2, Doc id: 1216, RSV score: 7.619\n",
      "Position: 3, Doc id: 882, RSV score: 6.175\n",
      "Position: 4, Doc id: 194, RSV score: 6.111\n",
      "Position: 5, Doc id: 415, RSV score: 5.537\n",
      "Position: 6, Doc id: 810, RSV score: 5.067\n",
      "Position: 7, Doc id: 864, RSV score: 4.971\n",
      "Position: 8, Doc id: 723, RSV score: 4.818\n",
      "Position: 9, Doc id: 728, RSV score: 4.818\n",
      "Position: 10, Doc id: 746, RSV score: 4.818\n"
     ]
    }
   ],
   "source": [
    "bim.print_first_k_rel_docs(\"dominating factors in structural design of high-speed aircraft\")"
   ]
  }
 ],
 "metadata": {
  "kernelspec": {
   "display_name": "ap2021",
   "language": "python",
   "name": "python3"
  },
  "language_info": {
   "codemirror_mode": {
    "name": "ipython",
    "version": 3
   },
   "file_extension": ".py",
   "mimetype": "text/x-python",
   "name": "python",
   "nbconvert_exporter": "python",
   "pygments_lexer": "ipython3",
   "version": "3.10.9"
  },
  "orig_nbformat": 4,
  "vscode": {
   "interpreter": {
    "hash": "23fde5cccd6017400e1556215805741cd39fccd04b809b9d9398efb02ec1d881"
   }
  }
 },
 "nbformat": 4,
 "nbformat_minor": 2
}
