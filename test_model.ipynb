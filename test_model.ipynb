{
 "cells": [
  {
   "cell_type": "code",
   "execution_count": 1,
   "metadata": {},
   "outputs": [
    {
     "name": "stderr",
     "output_type": "stream",
     "text": [
      "[nltk_data] Downloading package stopwords to\n",
      "[nltk_data]     /Users/valeriainsogna/nltk_data...\n",
      "[nltk_data]   Package stopwords is already up-to-date!\n"
     ]
    }
   ],
   "source": [
    "from utils.functions import *\n",
    "from bim import *"
   ]
  },
  {
   "cell_type": "code",
   "execution_count": 2,
   "metadata": {},
   "outputs": [],
   "source": [
    "with open(\"data/preprocessed/articles.pkl\", \"rb\") as f:\n",
    "    articles = pickle.load(f)\n",
    "\n",
    "with open(\"data/preprocessed/queries.pkl\", \"rb\") as f:\n",
    "    queries = pickle.load(f)\n",
    "\n",
    "with open(\"data/preprocessed/relevance.pkl\", \"rb\") as f:\n",
    "    relevance = pickle.load(f)\n",
    "\n",
    "with open(\"index.pkl\", \"rb\") as f:\n",
    "    bim = pickle.load(f)"
   ]
  },
  {
   "cell_type": "code",
   "execution_count": 3,
   "metadata": {},
   "outputs": [],
   "source": [
    "# choose a query number\n",
    "n=11"
   ]
  },
  {
   "cell_type": "code",
   "execution_count": 4,
   "metadata": {},
   "outputs": [
    {
     "name": "stdout",
     "output_type": "stream",
     "text": [
      "Position: 1, Doc id: 623, RSV score: 20.402\n",
      "Position: 2, Doc id: 649, RSV score: 13.888\n",
      "Position: 3, Doc id: 505, RSV score: 11.831\n",
      "Position: 4, Doc id: 965, RSV score: 11.716\n",
      "Position: 5, Doc id: 791, RSV score: 10.291\n",
      "Position: 6, Doc id: 1231, RSV score: 9.633\n",
      "Position: 7, Doc id: 1288, RSV score: 9.362\n",
      "Position: 8, Doc id: 324, RSV score: 9.201\n",
      "Position: 9, Doc id: 648, RSV score: 8.981\n",
      "Position: 10, Doc id: 703, RSV score: 8.408\n"
     ]
    }
   ],
   "source": [
    "bim.print_first_k_rel_docs(queries[n])"
   ]
  },
  {
   "cell_type": "code",
   "execution_count": 5,
   "metadata": {},
   "outputs": [
    {
     "name": "stdout",
     "output_type": "stream",
     "text": [
      "The precision is: 0.2, the recall is: 0.4\n"
     ]
    }
   ],
   "source": [
    "bim.precision_recall(queries[n], relevance[n])"
   ]
  },
  {
   "cell_type": "code",
   "execution_count": 6,
   "metadata": {},
   "outputs": [
    {
     "name": "stdout",
     "output_type": "stream",
     "text": [
      "Position: 1, Doc id: 623, RSV score: 14.663\n",
      "Position: 2, Doc id: 649, RSV score: 11.591\n",
      "Position: 3, Doc id: 505, RSV score: 10.77\n",
      "Position: 4, Doc id: 648, RSV score: 9.075\n",
      "Position: 5, Doc id: 1231, RSV score: 8.651\n",
      "Position: 6, Doc id: 791, RSV score: 7.194\n",
      "Position: 7, Doc id: 965, RSV score: 7.177\n",
      "Position: 8, Doc id: 324, RSV score: 6.772\n",
      "Position: 9, Doc id: 809, RSV score: 6.665\n",
      "Position: 10, Doc id: 1167, RSV score: 6.665\n",
      "Position: 11, Doc id: 805, RSV score: 6.628\n",
      "Position: 12, Doc id: 804, RSV score: 6.496\n",
      "Position: 13, Doc id: 716, RSV score: 6.322\n",
      "Position: 14, Doc id: 85, RSV score: 6.073\n",
      "Position: 15, Doc id: 555, RSV score: 6.073\n"
     ]
    }
   ],
   "source": [
    "bim.relevance_feedback(queries[n], relevance[n],15)"
   ]
  },
  {
   "cell_type": "code",
   "execution_count": 7,
   "metadata": {},
   "outputs": [
    {
     "name": "stdout",
     "output_type": "stream",
     "text": [
      "The precision is: 0.2, the recall is: 0.4\n"
     ]
    }
   ],
   "source": [
    "bim.precision_recall(queries[n], relevance[n])"
   ]
  },
  {
   "cell_type": "code",
   "execution_count": 8,
   "metadata": {},
   "outputs": [
    {
     "name": "stdout",
     "output_type": "stream",
     "text": [
      "The precision is: 0.0, the recall is: 0.0\n"
     ]
    }
   ],
   "source": [
    "bim.precision_recall(queries[13], relevance[13])"
   ]
  },
  {
   "cell_type": "code",
   "execution_count": 9,
   "metadata": {},
   "outputs": [
    {
     "name": "stdout",
     "output_type": "stream",
     "text": [
      "Position: 1, Doc id: 206, RSV score: 12.018\n",
      "Position: 2, Doc id: 208, RSV score: 12.018\n",
      "Position: 3, Doc id: 1302, RSV score: 11.981\n",
      "Position: 4, Doc id: 1326, RSV score: 11.981\n",
      "Position: 5, Doc id: 295, RSV score: 9.671\n",
      "Position: 6, Doc id: 63, RSV score: 9.634\n",
      "Position: 7, Doc id: 215, RSV score: 8.609\n",
      "Position: 8, Doc id: 607, RSV score: 8.609\n",
      "Position: 9, Doc id: 1159, RSV score: 8.609\n",
      "Position: 10, Doc id: 1243, RSV score: 8.609\n"
     ]
    }
   ],
   "source": [
    "bim.pseudo_relevance_feedback(queries[13],k=2)"
   ]
  },
  {
   "cell_type": "code",
   "execution_count": 10,
   "metadata": {},
   "outputs": [
    {
     "name": "stdout",
     "output_type": "stream",
     "text": [
      "The precision is: 0.1, the recall is: 0.5\n"
     ]
    }
   ],
   "source": [
    "bim.precision_recall(queries[13], relevance[13])"
   ]
  },
  {
   "cell_type": "code",
   "execution_count": 11,
   "metadata": {},
   "outputs": [
    {
     "name": "stdout",
     "output_type": "stream",
     "text": [
      "The mean average precision is: 0.328\n"
     ]
    }
   ],
   "source": [
    "bim.mean_average_precision(list(range(29)), queries, relevance)"
   ]
  },
  {
   "cell_type": "code",
   "execution_count": 12,
   "metadata": {},
   "outputs": [
    {
     "name": "stdout",
     "output_type": "stream",
     "text": [
      "The R-precision is: 0.625\n"
     ]
    }
   ],
   "source": [
    "bim.r_precision(queries[2], relevance[2])"
   ]
  },
  {
   "cell_type": "code",
   "execution_count": 13,
   "metadata": {},
   "outputs": [
    {
     "name": "stdout",
     "output_type": "stream",
     "text": [
      "some structural and aerelastic considerations of high speed flight the dominating factors in structural design of high speed aircraft are thermal and aeroelastic in origin the subject matter is concerned largely with a discussion of these factors and their interrelation with one another a summary is presented of some of the analytical and experimental tools available to aeronautical engineers to meet the demands of high speed flight upon aircraft structures the state of the art with respect to heat transfer from the boundary layer into the structure modes of failure under combined load as well as thermal inputs and acrothermoelasticity is discussed methods of attacking and alleviating structural and aeroelastic problems of high speed flight are summarized finally some avenues of fundamental research are suggested\n"
     ]
    }
   ],
   "source": [
    "print_article(articles[n])"
   ]
  },
  {
   "cell_type": "code",
   "execution_count": 14,
   "metadata": {},
   "outputs": [
    {
     "name": "stdout",
     "output_type": "stream",
     "text": [
      "Position: 1, Doc id: 11, RSV score: 8.927\n",
      "Position: 2, Doc id: 810, RSV score: 6.312\n",
      "Position: 3, Doc id: 882, RSV score: 5.551\n",
      "Position: 4, Doc id: 1379, RSV score: 5.551\n",
      "Position: 5, Doc id: 1216, RSV score: 5.439\n",
      "Position: 6, Doc id: 710, RSV score: 4.716\n",
      "Position: 7, Doc id: 1270, RSV score: 4.716\n",
      "Position: 8, Doc id: 252, RSV score: 4.675\n",
      "Position: 9, Doc id: 415, RSV score: 4.675\n",
      "Position: 10, Doc id: 924, RSV score: 4.675\n"
     ]
    }
   ],
   "source": [
    "bim.print_first_k_rel_docs(\"dominating factors in structural design of high-speed aircraft\")"
   ]
  }
 ],
 "metadata": {
  "kernelspec": {
   "display_name": "ap2021",
   "language": "python",
   "name": "python3"
  },
  "language_info": {
   "codemirror_mode": {
    "name": "ipython",
    "version": 3
   },
   "file_extension": ".py",
   "mimetype": "text/x-python",
   "name": "python",
   "nbconvert_exporter": "python",
   "pygments_lexer": "ipython3",
   "version": "3.10.9"
  },
  "orig_nbformat": 4,
  "vscode": {
   "interpreter": {
    "hash": "23fde5cccd6017400e1556215805741cd39fccd04b809b9d9398efb02ec1d881"
   }
  }
 },
 "nbformat": 4,
 "nbformat_minor": 2
}
