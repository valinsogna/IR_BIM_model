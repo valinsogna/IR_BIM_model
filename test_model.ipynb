{
 "cells": [
  {
   "cell_type": "code",
   "execution_count": 94,
   "metadata": {},
   "outputs": [],
   "source": [
    "from utils.functions import *\n",
    "from bim import *"
   ]
  },
  {
   "cell_type": "code",
   "execution_count": 95,
   "metadata": {},
   "outputs": [],
   "source": [
    "with open(\"data/preprocessed/articles.pkl\", \"rb\") as f:\n",
    "    articles = pickle.load(f)\n",
    "\n",
    "with open(\"data/preprocessed/queries.pkl\", \"rb\") as f:\n",
    "    queries = pickle.load(f)\n",
    "\n",
    "with open(\"data/preprocessed/relevance.pkl\", \"rb\") as f:\n",
    "    relevance = pickle.load(f)\n",
    "\n",
    "with open(\"index.pkl\", \"rb\") as f:\n",
    "    bim = pickle.load(f)"
   ]
  },
  {
   "cell_type": "code",
   "execution_count": 96,
   "metadata": {},
   "outputs": [],
   "source": [
    "# choose a query number\n",
    "n=1"
   ]
  },
  {
   "cell_type": "code",
   "execution_count": 97,
   "metadata": {},
   "outputs": [
    {
     "name": "stdout",
     "output_type": "stream",
     "text": [
      "Position: 1, Doc id: 11, RSV score: 17.064\n",
      "Position: 2, Doc id: 13, RSV score: 14.493\n",
      "Position: 3, Doc id: 171, RSV score: 13.164\n",
      "Position: 4, Doc id: 1379, RSV score: 12.711\n",
      "Position: 5, Doc id: 485, RSV score: 11.744\n",
      "Position: 6, Doc id: 1088, RSV score: 11.596\n",
      "Position: 7, Doc id: 745, RSV score: 11.511\n",
      "Position: 8, Doc id: 77, RSV score: 11.474\n",
      "Position: 9, Doc id: 50, RSV score: 10.926\n",
      "Position: 10, Doc id: 363, RSV score: 10.825\n"
     ]
    }
   ],
   "source": [
    "bim.print_first_k_rel_docs(queries[n])"
   ]
  },
  {
   "cell_type": "code",
   "execution_count": 98,
   "metadata": {},
   "outputs": [
    {
     "name": "stdout",
     "output_type": "stream",
     "text": [
      "The precision is: 0.4, the recall is: 0.167\n"
     ]
    }
   ],
   "source": [
    "bim.precision_recall(queries[n], relevance[n])"
   ]
  },
  {
   "cell_type": "code",
   "execution_count": 99,
   "metadata": {},
   "outputs": [
    {
     "name": "stdout",
     "output_type": "stream",
     "text": [
      "Position: 1, Doc id: 11, RSV score: 11.782\n",
      "Position: 2, Doc id: 13, RSV score: 9.531\n",
      "Position: 3, Doc id: 77, RSV score: 9.125\n",
      "Position: 4, Doc id: 485, RSV score: 8.425\n",
      "Position: 5, Doc id: 183, RSV score: 8.265\n",
      "Position: 6, Doc id: 201, RSV score: 8.265\n",
      "Position: 7, Doc id: 1379, RSV score: 8.135\n",
      "Position: 8, Doc id: 50, RSV score: 7.368\n",
      "Position: 9, Doc id: 745, RSV score: 7.164\n",
      "Position: 10, Doc id: 657, RSV score: 7.144\n",
      "Position: 11, Doc id: 283, RSV score: 6.797\n",
      "Position: 12, Doc id: 1360, RSV score: 6.797\n",
      "Position: 13, Doc id: 780, RSV score: 6.759\n",
      "Position: 14, Doc id: 723, RSV score: 6.284\n",
      "Position: 15, Doc id: 907, RSV score: 6.284\n"
     ]
    }
   ],
   "source": [
    "bim.relevance_feedback(queries[n], relevance[n],15)"
   ]
  },
  {
   "cell_type": "code",
   "execution_count": 100,
   "metadata": {},
   "outputs": [
    {
     "name": "stdout",
     "output_type": "stream",
     "text": [
      "The precision is: 0.7, the recall is: 0.292\n"
     ]
    }
   ],
   "source": [
    "bim.precision_recall(queries[n], relevance[n])"
   ]
  },
  {
   "cell_type": "code",
   "execution_count": 101,
   "metadata": {},
   "outputs": [
    {
     "name": "stdout",
     "output_type": "stream",
     "text": [
      "The precision is: 0.3, the recall is: 0.375\n"
     ]
    }
   ],
   "source": [
    "bim.precision_recall(queries[2], relevance[2])"
   ]
  },
  {
   "cell_type": "code",
   "execution_count": 102,
   "metadata": {},
   "outputs": [
    {
     "name": "stdout",
     "output_type": "stream",
     "text": [
      "Position: 1, Doc id: 143, RSV score: 17.795\n",
      "Position: 2, Doc id: 578, RSV score: 17.795\n",
      "Position: 3, Doc id: 4, RSV score: 15.425\n",
      "Position: 4, Doc id: 398, RSV score: 15.425\n",
      "Position: 5, Doc id: 484, RSV score: 15.425\n",
      "Position: 6, Doc id: 90, RSV score: 14.976\n",
      "Position: 7, Doc id: 624, RSV score: 13.929\n",
      "Position: 8, Doc id: 1071, RSV score: 13.829\n",
      "Position: 9, Doc id: 343, RSV score: 13.38\n",
      "Position: 10, Doc id: 348, RSV score: 13.199\n"
     ]
    }
   ],
   "source": [
    "bim.pseudo_relevance_feedback(queries[2],k=2)"
   ]
  },
  {
   "cell_type": "code",
   "execution_count": 103,
   "metadata": {},
   "outputs": [
    {
     "name": "stdout",
     "output_type": "stream",
     "text": [
      "The precision is: 0.0, the recall is: 0.0\n"
     ]
    }
   ],
   "source": [
    "bim.precision_recall(queries[13], relevance[13])"
   ]
  },
  {
   "cell_type": "code",
   "execution_count": 104,
   "metadata": {},
   "outputs": [
    {
     "name": "stdout",
     "output_type": "stream",
     "text": [
      "The mean average precision is: 0.412\n"
     ]
    }
   ],
   "source": [
    "bim.mean_average_precision(list(range(10)), queries, relevance)"
   ]
  },
  {
   "cell_type": "code",
   "execution_count": 105,
   "metadata": {},
   "outputs": [
    {
     "name": "stdout",
     "output_type": "stream",
     "text": [
      "The R-precision is: 0.5\n"
     ]
    }
   ],
   "source": [
    "bim.r_precision(queries[2], relevance[2])"
   ]
  },
  {
   "cell_type": "code",
   "execution_count": 106,
   "metadata": {},
   "outputs": [
    {
     "name": "stdout",
     "output_type": "stream",
     "text": [
      "simple shear flow past  flat plate in an incompressible fluid of small viscosity in the study of high speed viscous flow past  two dimensional body it is usually necessary to consider  curved shock wave emitting from the nose or leading edge of the body consequently there exists an inviscid rotational flow region between the shock wave and the boundary layer such  situation arises for instance in the study of the hypersonic viscous flow past  flat plate the situation is somewhat different from prandtl  classical boundary layer problem in prandtl  original problem the inviscid free stream outside the boundary layer is irrotational while in  hypersonic boundary layer problem the inviscid free stream must be considered as rotational the possible effects of vorticity have been recently discussed by ferri and libby in the present paper the simple shear flow past  flat plate in  fluid of small viscosity is investigated it can be shown that this problem can again be treated by the boundary layer approximation the only novel feature being that the free stream has  constant vorticity the discussion here is restricted to two dimensional incompressible steady flow\n"
     ]
    }
   ],
   "source": [
    "print_article(articles[n])"
   ]
  },
  {
   "cell_type": "code",
   "execution_count": 107,
   "metadata": {},
   "outputs": [
    {
     "name": "stdout",
     "output_type": "stream",
     "text": [
      "Position: 1, Doc id: 11, RSV score: 7.303\n",
      "Position: 2, Doc id: 1216, RSV score: 5.439\n",
      "Position: 3, Doc id: 710, RSV score: 4.716\n",
      "Position: 4, Doc id: 1270, RSV score: 4.716\n",
      "Position: 5, Doc id: 810, RSV score: 4.688\n",
      "Position: 6, Doc id: 864, RSV score: 4.563\n",
      "Position: 7, Doc id: 882, RSV score: 3.927\n",
      "Position: 8, Doc id: 1379, RSV score: 3.927\n",
      "Position: 9, Doc id: 218, RSV score: 3.376\n",
      "Position: 10, Doc id: 400, RSV score: 3.376\n"
     ]
    }
   ],
   "source": [
    "bim.print_first_k_rel_docs(\"dominating factors in structural design of high-speed aircraft\")"
   ]
  }
 ],
 "metadata": {
  "kernelspec": {
   "display_name": "ap2021",
   "language": "python",
   "name": "python3"
  },
  "language_info": {
   "codemirror_mode": {
    "name": "ipython",
    "version": 3
   },
   "file_extension": ".py",
   "mimetype": "text/x-python",
   "name": "python",
   "nbconvert_exporter": "python",
   "pygments_lexer": "ipython3",
   "version": "3.10.9"
  },
  "orig_nbformat": 4,
  "vscode": {
   "interpreter": {
    "hash": "23fde5cccd6017400e1556215805741cd39fccd04b809b9d9398efb02ec1d881"
   }
  }
 },
 "nbformat": 4,
 "nbformat_minor": 2
}
