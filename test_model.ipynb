{
 "cells": [
  {
   "attachments": {},
   "cell_type": "markdown",
   "metadata": {},
   "source": [
    "# Import index"
   ]
  },
  {
   "cell_type": "code",
   "execution_count": 25,
   "metadata": {},
   "outputs": [],
   "source": [
    "from utils.functions import *\n",
    "from bim import *"
   ]
  },
  {
   "cell_type": "code",
   "execution_count": 26,
   "metadata": {},
   "outputs": [],
   "source": [
    "with open(\"data/preprocessed/articles.pkl\", \"rb\") as f:\n",
    "    articles = pickle.load(f)\n",
    "\n",
    "with open(\"data/preprocessed/queries.pkl\", \"rb\") as f:\n",
    "    queries = pickle.load(f)\n",
    "\n",
    "with open(\"data/preprocessed/relevance.pkl\", \"rb\") as f:\n",
    "    relevance = pickle.load(f)\n",
    "\n",
    "with open(\"index.pkl\", \"rb\") as f:\n",
    "    bim = pickle.load(f)"
   ]
  },
  {
   "attachments": {},
   "cell_type": "markdown",
   "metadata": {},
   "source": [
    "# Test the effectiveness metrics"
   ]
  },
  {
   "attachments": {},
   "cell_type": "markdown",
   "metadata": {},
   "source": [
    "##  Ranked results RSV for a query via relevance feedback"
   ]
  },
  {
   "cell_type": "code",
   "execution_count": 27,
   "metadata": {},
   "outputs": [],
   "source": [
    "n=1"
   ]
  },
  {
   "attachments": {},
   "cell_type": "markdown",
   "metadata": {},
   "source": [
    "### Retrieve top 10 ranked documents for a query, with initial assumptions"
   ]
  },
  {
   "cell_type": "code",
   "execution_count": 28,
   "metadata": {},
   "outputs": [
    {
     "name": "stdout",
     "output_type": "stream",
     "text": [
      "Position: 1, Doc id: 11, RSV score: 17.064\n",
      "Position: 2, Doc id: 13, RSV score: 14.493\n",
      "Position: 3, Doc id: 171, RSV score: 13.164\n",
      "Position: 4, Doc id: 1379, RSV score: 12.711\n",
      "Position: 5, Doc id: 485, RSV score: 11.744\n",
      "Position: 6, Doc id: 1088, RSV score: 11.596\n",
      "Position: 7, Doc id: 745, RSV score: 11.511\n",
      "Position: 8, Doc id: 77, RSV score: 11.474\n",
      "Position: 9, Doc id: 50, RSV score: 10.926\n",
      "Position: 10, Doc id: 363, RSV score: 10.825\n"
     ]
    }
   ],
   "source": [
    "bim.print_first_k_rel_docs(queries[n])"
   ]
  },
  {
   "attachments": {},
   "cell_type": "markdown",
   "metadata": {},
   "source": [
    "### Evaluate the precision and the recall for that query with the list of the 10 retrived documents."
   ]
  },
  {
   "cell_type": "code",
   "execution_count": 29,
   "metadata": {},
   "outputs": [
    {
     "name": "stdout",
     "output_type": "stream",
     "text": [
      "The precision is: 0.4, the recall is: 0.167\n"
     ]
    }
   ],
   "source": [
    "bim.precision_recall(queries[n], relevance[n])"
   ]
  },
  {
   "attachments": {},
   "cell_type": "markdown",
   "metadata": {},
   "source": [
    "### Retrive top 15"
   ]
  },
  {
   "cell_type": "code",
   "execution_count": 30,
   "metadata": {},
   "outputs": [
    {
     "name": "stdout",
     "output_type": "stream",
     "text": [
      "Position: 1, Doc id: 11, RSV score: 11.782\n",
      "Position: 2, Doc id: 13, RSV score: 9.531\n",
      "Position: 3, Doc id: 77, RSV score: 9.125\n",
      "Position: 4, Doc id: 485, RSV score: 8.425\n",
      "Position: 5, Doc id: 183, RSV score: 8.265\n",
      "Position: 6, Doc id: 201, RSV score: 8.265\n",
      "Position: 7, Doc id: 1379, RSV score: 8.135\n",
      "Position: 8, Doc id: 50, RSV score: 7.368\n",
      "Position: 9, Doc id: 745, RSV score: 7.164\n",
      "Position: 10, Doc id: 657, RSV score: 7.144\n",
      "Position: 11, Doc id: 283, RSV score: 6.797\n",
      "Position: 12, Doc id: 1360, RSV score: 6.797\n",
      "Position: 13, Doc id: 780, RSV score: 6.759\n",
      "Position: 14, Doc id: 723, RSV score: 6.284\n",
      "Position: 15, Doc id: 907, RSV score: 6.284\n"
     ]
    }
   ],
   "source": [
    "bim.relevance_feedback(queries[n], relevance[n],15)"
   ]
  },
  {
   "attachments": {},
   "cell_type": "markdown",
   "metadata": {},
   "source": [
    "### Update estimate for u and p, and re-evaluate the precision and the recall."
   ]
  },
  {
   "cell_type": "code",
   "execution_count": 31,
   "metadata": {},
   "outputs": [
    {
     "name": "stdout",
     "output_type": "stream",
     "text": [
      "The precision is: 0.7, the recall is: 0.292\n"
     ]
    }
   ],
   "source": [
    "bim.precision_recall(queries[n], relevance[n]) # the precision and recall have improved!"
   ]
  },
  {
   "attachments": {},
   "cell_type": "markdown",
   "metadata": {},
   "source": [
    "## Repeat for new query via pseudo-relevance feedback"
   ]
  },
  {
   "cell_type": "code",
   "execution_count": 32,
   "metadata": {},
   "outputs": [
    {
     "name": "stdout",
     "output_type": "stream",
     "text": [
      "The precision is: 0.3, the recall is: 0.375\n"
     ]
    }
   ],
   "source": [
    "bim.precision_recall(queries[2], relevance[2])"
   ]
  },
  {
   "cell_type": "code",
   "execution_count": 33,
   "metadata": {},
   "outputs": [
    {
     "name": "stdout",
     "output_type": "stream",
     "text": [
      "Position: 1, Doc id: 4, RSV score: 20.19\n",
      "Position: 2, Doc id: 398, RSV score: 20.19\n",
      "Position: 3, Doc id: 484, RSV score: 20.19\n",
      "Position: 4, Doc id: 143, RSV score: 18.647\n",
      "Position: 5, Doc id: 578, RSV score: 18.647\n",
      "Position: 6, Doc id: 90, RSV score: 17.776\n",
      "Position: 7, Doc id: 1071, RSV score: 14.791\n",
      "Position: 8, Doc id: 541, RSV score: 14.352\n",
      "Position: 9, Doc id: 89, RSV score: 14.089\n",
      "Position: 10, Doc id: 180, RSV score: 13.679\n"
     ]
    }
   ],
   "source": [
    "bim.pseudo_relevance_feedback(queries[2],k=5)"
   ]
  },
  {
   "cell_type": "code",
   "execution_count": 34,
   "metadata": {},
   "outputs": [
    {
     "name": "stdout",
     "output_type": "stream",
     "text": [
      "The precision is: 0.6, the recall is: 0.75\n"
     ]
    }
   ],
   "source": [
    "bim.precision_recall(queries[2], relevance[2])"
   ]
  },
  {
   "attachments": {},
   "cell_type": "markdown",
   "metadata": {},
   "source": [
    "## Average precision for a query"
   ]
  },
  {
   "cell_type": "code",
   "execution_count": 35,
   "metadata": {},
   "outputs": [
    {
     "data": {
      "text/plain": [
       "0.25"
      ]
     },
     "execution_count": 35,
     "metadata": {},
     "output_type": "execute_result"
    }
   ],
   "source": [
    "bim.average_precision(queries[3], relevance[3])"
   ]
  },
  {
   "attachments": {},
   "cell_type": "markdown",
   "metadata": {},
   "source": [
    "## Mean average precision of the BIM model"
   ]
  },
  {
   "cell_type": "code",
   "execution_count": 36,
   "metadata": {},
   "outputs": [
    {
     "name": "stdout",
     "output_type": "stream",
     "text": [
      "The mean average precision is: 0.219\n"
     ]
    }
   ],
   "source": [
    "bim.mean_average_precision(list(range(30)), queries, relevance)"
   ]
  },
  {
   "attachments": {},
   "cell_type": "markdown",
   "metadata": {},
   "source": [
    "## R-precision for a query"
   ]
  },
  {
   "cell_type": "code",
   "execution_count": 37,
   "metadata": {},
   "outputs": [
    {
     "name": "stdout",
     "output_type": "stream",
     "text": [
      "The R-precision is: 0.5\n"
     ]
    }
   ],
   "source": [
    "bim.r_precision(queries[2], relevance[2])"
   ]
  },
  {
   "attachments": {},
   "cell_type": "markdown",
   "metadata": {},
   "source": [
    "## Mean R-precision of the BIM model"
   ]
  },
  {
   "cell_type": "code",
   "execution_count": 40,
   "metadata": {},
   "outputs": [
    {
     "ename": "AttributeError",
     "evalue": "'BIM_IRModel' object has no attribute 'mean_r_precision'",
     "output_type": "error",
     "traceback": [
      "\u001b[0;31m---------------------------------------------------------------------------\u001b[0m",
      "\u001b[0;31mAttributeError\u001b[0m                            Traceback (most recent call last)",
      "Cell \u001b[0;32mIn[40], line 1\u001b[0m\n\u001b[0;32m----> 1\u001b[0m bim\u001b[39m.\u001b[39;49mmean_r_precision(\u001b[39mlist\u001b[39m(\u001b[39mrange\u001b[39m(\u001b[39m30\u001b[39m)), queries, relevance)\n",
      "\u001b[0;31mAttributeError\u001b[0m: 'BIM_IRModel' object has no attribute 'mean_r_precision'"
     ]
    }
   ],
   "source": [
    "bim.mean_r_precision(list(range(30)), queries, relevance)"
   ]
  },
  {
   "attachments": {},
   "cell_type": "markdown",
   "metadata": {},
   "source": [
    "## Custom query"
   ]
  },
  {
   "cell_type": "code",
   "execution_count": null,
   "metadata": {},
   "outputs": [
    {
     "name": "stdout",
     "output_type": "stream",
     "text": [
      "Position: 1, Doc id: 11, RSV score: 7.012\n",
      "Position: 2, Doc id: 1216, RSV score: 5.439\n",
      "Position: 3, Doc id: 864, RSV score: 4.551\n",
      "Position: 4, Doc id: 810, RSV score: 4.409\n",
      "Position: 5, Doc id: 882, RSV score: 3.927\n",
      "Position: 6, Doc id: 1379, RSV score: 3.636\n",
      "Position: 7, Doc id: 218, RSV score: 3.376\n",
      "Position: 8, Doc id: 517, RSV score: 3.376\n",
      "Position: 9, Doc id: 400, RSV score: 3.364\n",
      "Position: 10, Doc id: 571, RSV score: 3.364\n"
     ]
    }
   ],
   "source": [
    "bim.print_first_k_rel_docs(\"dominating factors in structural design of high-speed aircraft\")"
   ]
  },
  {
   "attachments": {},
   "cell_type": "markdown",
   "metadata": {},
   "source": [
    "print_txt(articles[11])"
   ]
  }
 ],
 "metadata": {
  "kernelspec": {
   "display_name": "ap2021",
   "language": "python",
   "name": "python3"
  },
  "language_info": {
   "codemirror_mode": {
    "name": "ipython",
    "version": 3
   },
   "file_extension": ".py",
   "mimetype": "text/x-python",
   "name": "python",
   "nbconvert_exporter": "python",
   "pygments_lexer": "ipython3",
   "version": "3.10.9"
  },
  "orig_nbformat": 4,
  "vscode": {
   "interpreter": {
    "hash": "23fde5cccd6017400e1556215805741cd39fccd04b809b9d9398efb02ec1d881"
   }
  }
 },
 "nbformat": 4,
 "nbformat_minor": 2
}
