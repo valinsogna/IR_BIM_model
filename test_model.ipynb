{
 "cells": [
  {
   "cell_type": "code",
   "execution_count": 1,
   "metadata": {},
   "outputs": [
    {
     "name": "stderr",
     "output_type": "stream",
     "text": [
      "[nltk_data] Downloading package stopwords to\n",
      "[nltk_data]     /Users/valeriainsogna/nltk_data...\n",
      "[nltk_data]   Package stopwords is already up-to-date!\n"
     ]
    }
   ],
   "source": [
    "from utils.functions import *\n",
    "from bim import *"
   ]
  },
  {
   "cell_type": "code",
   "execution_count": 2,
   "metadata": {},
   "outputs": [],
   "source": [
    "with open(\"data/preprocessed/articles.pkl\", \"rb\") as f:\n",
    "    articles = pickle.load(f)\n",
    "\n",
    "with open(\"data/preprocessed/queries.pkl\", \"rb\") as f:\n",
    "    queries = pickle.load(f)\n",
    "\n",
    "with open(\"data/preprocessed/relevance.pkl\", \"rb\") as f:\n",
    "    relevance = pickle.load(f)\n",
    "\n",
    "with open(\"index.pkl\", \"rb\") as f:\n",
    "    bim = pickle.load(f)"
   ]
  },
  {
   "cell_type": "code",
   "execution_count": 3,
   "metadata": {},
   "outputs": [],
   "source": [
    "# choose a query number\n",
    "n=6"
   ]
  },
  {
   "cell_type": "code",
   "execution_count": 4,
   "metadata": {},
   "outputs": [
    {
     "name": "stdout",
     "output_type": "stream",
     "text": [
      "Position: 1, Doc id: 491, RSV score: 25.046\n",
      "Position: 2, Doc id: 123, RSV score: 20.148\n",
      "Position: 3, Doc id: 56, RSV score: 17.356\n",
      "Position: 4, Doc id: 231, RSV score: 16.663\n",
      "Position: 5, Doc id: 540, RSV score: 16.193\n",
      "Position: 6, Doc id: 121, RSV score: 16.072\n",
      "Position: 7, Doc id: 1103, RSV score: 15.69\n",
      "Position: 8, Doc id: 55, RSV score: 15.053\n",
      "Position: 9, Doc id: 233, RSV score: 15.053\n",
      "Position: 10, Doc id: 1039, RSV score: 14.846\n"
     ]
    }
   ],
   "source": [
    "bim.print_first_k_rel_docs(queries[n])"
   ]
  },
  {
   "cell_type": "code",
   "execution_count": 6,
   "metadata": {},
   "outputs": [
    {
     "name": "stdout",
     "output_type": "stream",
     "text": [
      "The precision is: 0.0, the recall is: 0.0\n"
     ]
    }
   ],
   "source": [
    "bim.precision_recall(queries[n], relevance[n])"
   ]
  },
  {
   "cell_type": "code",
   "execution_count": 7,
   "metadata": {},
   "outputs": [
    {
     "name": "stdout",
     "output_type": "stream",
     "text": [
      "Position: 1, Doc id: 491, RSV score: 8.265\n",
      "Position: 2, Doc id: 123, RSV score: 6.926\n",
      "Position: 3, Doc id: 991, RSV score: 5.393\n",
      "Position: 4, Doc id: 687, RSV score: 5.209\n",
      "Position: 5, Doc id: 231, RSV score: 4.409\n",
      "Position: 6, Doc id: 36, RSV score: 4.119\n",
      "Position: 7, Doc id: 121, RSV score: 4.031\n",
      "Position: 8, Doc id: 55, RSV score: 3.871\n",
      "Position: 9, Doc id: 233, RSV score: 3.871\n",
      "Position: 10, Doc id: 56, RSV score: 3.864\n",
      "Position: 11, Doc id: 568, RSV score: 3.75\n",
      "Position: 12, Doc id: 1039, RSV score: 3.627\n",
      "Position: 13, Doc id: 562, RSV score: 3.443\n",
      "Position: 14, Doc id: 1116, RSV score: 3.316\n",
      "Position: 15, Doc id: 164, RSV score: 3.215\n"
     ]
    }
   ],
   "source": [
    "bim.relevance_feedback(queries[n], relevance[n],15)"
   ]
  },
  {
   "cell_type": "code",
   "execution_count": 8,
   "metadata": {},
   "outputs": [
    {
     "name": "stdout",
     "output_type": "stream",
     "text": [
      "The precision is: 0.0, the recall is: 0.0\n"
     ]
    }
   ],
   "source": [
    "bim.precision_recall(queries[n], relevance[n])"
   ]
  },
  {
   "cell_type": "code",
   "execution_count": 9,
   "metadata": {},
   "outputs": [
    {
     "name": "stdout",
     "output_type": "stream",
     "text": [
      "The precision is: 0.0, the recall is: 0.0\n"
     ]
    }
   ],
   "source": [
    "bim.precision_recall(queries[13], relevance[13])"
   ]
  },
  {
   "cell_type": "code",
   "execution_count": 10,
   "metadata": {},
   "outputs": [
    {
     "name": "stdout",
     "output_type": "stream",
     "text": [
      "Position: 1, Doc id: 169, RSV score: 11.69\n",
      "Position: 2, Doc id: 328, RSV score: 11.69\n",
      "Position: 3, Doc id: 438, RSV score: 11.69\n",
      "Position: 4, Doc id: 24, RSV score: 8.171\n",
      "Position: 5, Doc id: 63, RSV score: 8.171\n",
      "Position: 6, Doc id: 191, RSV score: 8.171\n",
      "Position: 7, Doc id: 255, RSV score: 8.171\n",
      "Position: 8, Doc id: 264, RSV score: 8.171\n",
      "Position: 9, Doc id: 290, RSV score: 8.171\n",
      "Position: 10, Doc id: 295, RSV score: 8.171\n"
     ]
    }
   ],
   "source": [
    "bim.pseudo_relevance_feedback(queries[13],k=2)"
   ]
  },
  {
   "cell_type": "code",
   "execution_count": 11,
   "metadata": {},
   "outputs": [
    {
     "name": "stdout",
     "output_type": "stream",
     "text": [
      "The precision is: 0.0, the recall is: 0.0\n"
     ]
    }
   ],
   "source": [
    "bim.precision_recall(queries[13], relevance[13])"
   ]
  },
  {
   "cell_type": "code",
   "execution_count": 12,
   "metadata": {},
   "outputs": [
    {
     "name": "stdout",
     "output_type": "stream",
     "text": [
      "The mean average precision is: 0.004\n"
     ]
    }
   ],
   "source": [
    "bim.mean_average_precision(list(range(29)), queries, relevance)"
   ]
  },
  {
   "cell_type": "code",
   "execution_count": 13,
   "metadata": {},
   "outputs": [
    {
     "name": "stdout",
     "output_type": "stream",
     "text": [
      "The R-precision is: 0.0\n"
     ]
    }
   ],
   "source": [
    "bim.r_precision(queries[2], relevance[2])"
   ]
  },
  {
   "cell_type": "code",
   "execution_count": 14,
   "metadata": {},
   "outputs": [
    {
     "name": "stdout",
     "output_type": "stream",
     "text": [
      "the effect of controlled threedimensional roughness on boundary layer transition at supersonic speeds experiments were performed in the in supersonic wind tunnel of the jet propulsion laboratory of the california institute of technology to investigate the effect of threedimensional roughness elements spheres on boundarylayer transition on a tained at local mach numbers of and by varying trip size position spacing and reynolds number per inch the results indicate that transition from laminar to turbulent flow induced by threedimensional roughness elements begins when the double row of spiral vortices trailing each element contaminates and breaks down the surrounding field of vorticity transition appears rather suddenly becoming more violent with increasing roughness height relative to the boundarylayer thickness after the breakdown of the vorticity field the strength of the spiral vortices may still persist in the sublayer of the ensuing turbulent flow lateral spacing of roughness elements has little effect upon the initial breakdown contamination of the laminar flow and the trip reynolds number where u and v are the velocity and kinematic viscosity at the outer edge of the boundary layer and k is roughness height such that transition occurs at the roughness position varies as the position reynolds number to the onefourth power viz\n"
     ]
    }
   ],
   "source": [
    "print_article(articles[n])"
   ]
  },
  {
   "cell_type": "code",
   "execution_count": 15,
   "metadata": {},
   "outputs": [
    {
     "name": "stdout",
     "output_type": "stream",
     "text": [
      "Position: 1, Doc id: 11, RSV score: 11.799\n",
      "Position: 2, Doc id: 1216, RSV score: 7.619\n",
      "Position: 3, Doc id: 882, RSV score: 6.175\n",
      "Position: 4, Doc id: 194, RSV score: 6.111\n",
      "Position: 5, Doc id: 415, RSV score: 5.537\n",
      "Position: 6, Doc id: 810, RSV score: 5.067\n",
      "Position: 7, Doc id: 864, RSV score: 4.971\n",
      "Position: 8, Doc id: 723, RSV score: 4.818\n",
      "Position: 9, Doc id: 728, RSV score: 4.818\n",
      "Position: 10, Doc id: 746, RSV score: 4.818\n"
     ]
    }
   ],
   "source": [
    "bim.print_first_k_rel_docs(\"dominating factors in structural design of high-speed aircraft\")"
   ]
  }
 ],
 "metadata": {
  "kernelspec": {
   "display_name": "ap2021",
   "language": "python",
   "name": "python3"
  },
  "language_info": {
   "codemirror_mode": {
    "name": "ipython",
    "version": 3
   },
   "file_extension": ".py",
   "mimetype": "text/x-python",
   "name": "python",
   "nbconvert_exporter": "python",
   "pygments_lexer": "ipython3",
   "version": "3.9.7"
  },
  "orig_nbformat": 4,
  "vscode": {
   "interpreter": {
    "hash": "23fde5cccd6017400e1556215805741cd39fccd04b809b9d9398efb02ec1d881"
   }
  }
 },
 "nbformat": 4,
 "nbformat_minor": 2
}
