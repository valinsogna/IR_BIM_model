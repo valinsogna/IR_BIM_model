{
 "cells": [
  {
   "attachments": {},
   "cell_type": "markdown",
   "metadata": {},
   "source": [
    "# Import index"
   ]
  },
  {
   "cell_type": "code",
   "execution_count": 1,
   "metadata": {},
   "outputs": [],
   "source": [
    "from utils.functions import *\n",
    "from bim import *"
   ]
  },
  {
   "cell_type": "code",
   "execution_count": 2,
   "metadata": {},
   "outputs": [],
   "source": [
    "with open(\"data/preprocessed/articles.pkl\", \"rb\") as f:\n",
    "    articles = pickle.load(f)\n",
    "\n",
    "with open(\"data/preprocessed/queries.pkl\", \"rb\") as f:\n",
    "    queries = pickle.load(f)\n",
    "\n",
    "with open(\"data/preprocessed/relevance.pkl\", \"rb\") as f:\n",
    "    relevance = pickle.load(f)\n",
    "\n",
    "with open(\"index.pkl\", \"rb\") as f:\n",
    "    bim = pickle.load(f)"
   ]
  },
  {
   "attachments": {},
   "cell_type": "markdown",
   "metadata": {},
   "source": [
    "# Test the effectiveness metrics"
   ]
  },
  {
   "attachments": {},
   "cell_type": "markdown",
   "metadata": {},
   "source": [
    "##  Ranked results RSV for a query via relevance feedback"
   ]
  },
  {
   "cell_type": "code",
   "execution_count": 3,
   "metadata": {},
   "outputs": [],
   "source": [
    "n=1"
   ]
  },
  {
   "attachments": {},
   "cell_type": "markdown",
   "metadata": {},
   "source": [
    "### Retrieve top 10 ranked documents for a query, with initial assumptions"
   ]
  },
  {
   "cell_type": "code",
   "execution_count": 4,
   "metadata": {},
   "outputs": [
    {
     "name": "stdout",
     "output_type": "stream",
     "text": [
      "Position: 1, Doc id: 11, RSV score: 17.064\n",
      "Position: 2, Doc id: 13, RSV score: 14.493\n",
      "Position: 3, Doc id: 171, RSV score: 13.164\n",
      "Position: 4, Doc id: 1379, RSV score: 12.711\n",
      "Position: 5, Doc id: 485, RSV score: 11.744\n",
      "Position: 6, Doc id: 1088, RSV score: 11.596\n",
      "Position: 7, Doc id: 745, RSV score: 11.511\n",
      "Position: 8, Doc id: 77, RSV score: 11.474\n",
      "Position: 9, Doc id: 50, RSV score: 10.926\n",
      "Position: 10, Doc id: 363, RSV score: 10.825\n"
     ]
    }
   ],
   "source": [
    "bim.print_first_k_rel_docs(queries[1])"
   ]
  },
  {
   "attachments": {},
   "cell_type": "markdown",
   "metadata": {},
   "source": [
    "### Evaluate the precision and the recall for that query with the list of the 10 retrived documents."
   ]
  },
  {
   "cell_type": "code",
   "execution_count": 5,
   "metadata": {},
   "outputs": [
    {
     "name": "stdout",
     "output_type": "stream",
     "text": [
      "The precision is: 0.4, the recall is: 0.167\n"
     ]
    }
   ],
   "source": [
    "bim.precision_recall(queries[1], relevance[1])"
   ]
  },
  {
   "attachments": {},
   "cell_type": "markdown",
   "metadata": {},
   "source": [
    "### Retrive top 15"
   ]
  },
  {
   "cell_type": "code",
   "execution_count": 6,
   "metadata": {},
   "outputs": [
    {
     "name": "stdout",
     "output_type": "stream",
     "text": [
      "Position: 1, Doc id: 11, RSV score: 11.782\n",
      "Position: 2, Doc id: 13, RSV score: 9.531\n",
      "Position: 3, Doc id: 77, RSV score: 9.125\n",
      "Position: 4, Doc id: 485, RSV score: 8.425\n",
      "Position: 5, Doc id: 183, RSV score: 8.265\n",
      "Position: 6, Doc id: 201, RSV score: 8.265\n",
      "Position: 7, Doc id: 1379, RSV score: 8.135\n",
      "Position: 8, Doc id: 50, RSV score: 7.368\n",
      "Position: 9, Doc id: 745, RSV score: 7.164\n",
      "Position: 10, Doc id: 657, RSV score: 7.144\n"
     ]
    }
   ],
   "source": [
    "bim.relevance_feedback(queries[1], relevance[1],10)"
   ]
  },
  {
   "attachments": {},
   "cell_type": "markdown",
   "metadata": {},
   "source": [
    "### Update estimate for u and p, and re-evaluate the precision and the recall."
   ]
  },
  {
   "cell_type": "code",
   "execution_count": 7,
   "metadata": {},
   "outputs": [
    {
     "name": "stdout",
     "output_type": "stream",
     "text": [
      "The precision is: 0.7, the recall is: 0.292\n"
     ]
    }
   ],
   "source": [
    "bim.precision_recall(queries[1], relevance[1]) # the precision and recall have improved!"
   ]
  },
  {
   "attachments": {},
   "cell_type": "markdown",
   "metadata": {},
   "source": [
    "## Repeat for new query via pseudo-relevance feedback"
   ]
  },
  {
   "cell_type": "code",
   "execution_count": 8,
   "metadata": {},
   "outputs": [
    {
     "name": "stdout",
     "output_type": "stream",
     "text": [
      "The precision is: 0.3, the recall is: 0.375\n"
     ]
    }
   ],
   "source": [
    "bim.precision_recall(queries[2], relevance[2])"
   ]
  },
  {
   "cell_type": "code",
   "execution_count": 9,
   "metadata": {},
   "outputs": [
    {
     "name": "stdout",
     "output_type": "stream",
     "text": [
      "Position: 1, Doc id: 4, RSV score: 20.19\n",
      "Position: 2, Doc id: 398, RSV score: 20.19\n",
      "Position: 3, Doc id: 484, RSV score: 20.19\n",
      "Position: 4, Doc id: 143, RSV score: 18.647\n",
      "Position: 5, Doc id: 578, RSV score: 18.647\n",
      "Position: 6, Doc id: 90, RSV score: 17.776\n",
      "Position: 7, Doc id: 1071, RSV score: 14.791\n",
      "Position: 8, Doc id: 541, RSV score: 14.352\n",
      "Position: 9, Doc id: 89, RSV score: 14.089\n",
      "Position: 10, Doc id: 180, RSV score: 13.679\n"
     ]
    }
   ],
   "source": [
    "bim.pseudo_relevance_feedback(queries[2],k=5)"
   ]
  },
  {
   "cell_type": "code",
   "execution_count": 10,
   "metadata": {},
   "outputs": [
    {
     "name": "stdout",
     "output_type": "stream",
     "text": [
      "The precision is: 0.6, the recall is: 0.75\n"
     ]
    }
   ],
   "source": [
    "bim.precision_recall(queries[2], relevance[2])"
   ]
  },
  {
   "attachments": {},
   "cell_type": "markdown",
   "metadata": {},
   "source": [
    "## Average precision for a query"
   ]
  },
  {
   "cell_type": "code",
   "execution_count": 11,
   "metadata": {},
   "outputs": [
    {
     "data": {
      "text/plain": [
       "0.25"
      ]
     },
     "execution_count": 11,
     "metadata": {},
     "output_type": "execute_result"
    }
   ],
   "source": [
    "bim.average_precision(queries[3], relevance[3])"
   ]
  },
  {
   "attachments": {},
   "cell_type": "markdown",
   "metadata": {},
   "source": [
    "## Mean average precision of the BIM model"
   ]
  },
  {
   "cell_type": "code",
   "execution_count": 12,
   "metadata": {},
   "outputs": [
    {
     "name": "stdout",
     "output_type": "stream",
     "text": [
      "The mean average precision is: 0.219\n"
     ]
    }
   ],
   "source": [
    "bim.mean_average_precision(list(range(30)), queries, relevance)"
   ]
  },
  {
   "attachments": {},
   "cell_type": "markdown",
   "metadata": {},
   "source": [
    "## R-precision for a query"
   ]
  },
  {
   "cell_type": "code",
   "execution_count": 13,
   "metadata": {},
   "outputs": [
    {
     "name": "stdout",
     "output_type": "stream",
     "text": [
      "The R-precision is: 0.5\n"
     ]
    }
   ],
   "source": [
    "bim.r_precision(queries[2], relevance[2])"
   ]
  },
  {
   "attachments": {},
   "cell_type": "markdown",
   "metadata": {},
   "source": [
    "## Mean R-precision of the BIM model"
   ]
  },
  {
   "cell_type": "code",
   "execution_count": 14,
   "metadata": {},
   "outputs": [
    {
     "name": "stdout",
     "output_type": "stream",
     "text": [
      "The mean R-precision is: 0.112\n"
     ]
    }
   ],
   "source": [
    "bim.mean_r_precision(list(range(30)), queries, relevance)"
   ]
  },
  {
   "attachments": {},
   "cell_type": "markdown",
   "metadata": {},
   "source": [
    "## Custom query"
   ]
  },
  {
   "cell_type": "code",
   "execution_count": 15,
   "metadata": {},
   "outputs": [
    {
     "name": "stdout",
     "output_type": "stream",
     "text": [
      "{'domin', 'aircraft', 'high', 'speed', 'factor', 'structur', 'design'}\n",
      "Position: 1, Doc id: 1216, RSV score: 3.067\n",
      "Position: 2, Doc id: 218, RSV score: 2.585\n",
      "Position: 3, Doc id: 517, RSV score: 2.585\n",
      "Position: 4, Doc id: 864, RSV score: 2.178\n",
      "Position: 5, Doc id: 810, RSV score: 2.036\n",
      "Position: 6, Doc id: 400, RSV score: 1.782\n",
      "Position: 7, Doc id: 571, RSV score: 1.782\n",
      "Position: 8, Doc id: 11, RSV score: 1.476\n",
      "Position: 9, Doc id: 882, RSV score: 0.764\n",
      "Position: 10, Doc id: 628, RSV score: 0.712\n"
     ]
    }
   ],
   "source": [
    "bim.print_first_k_rel_docs(\"dominating factors in structural design of high-speed aircraft\")"
   ]
  },
  {
   "cell_type": "code",
   "execution_count": 16,
   "metadata": {},
   "outputs": [
    {
     "name": "stdout",
     "output_type": "stream",
     "text": [
      "some structural and aerelastic considerations of high speed flight the dominatin\n",
      "g factors in structural design of high speed aircraft are thermal and aeroelasti\n",
      "c in origin the subject matter is concerned largely with a discussion of these f\n",
      "actors and their interrelation with one another a summary is presented of some o\n",
      "f the analytical and experimental tools available to aeronautical engineers to m\n",
      "eet the demands of high speed flight upon aircraft structures the state of the a\n",
      "rt with respect to heat transfer from the boundary layer into the structure mode\n",
      "s of failure under combined load as well as thermal inputs and acrothermoelastic\n",
      "ity is discussed methods of attacking and alleviating structural and aeroelastic\n",
      " problems of high speed flight are summarized finally some avenues of fundamenta\n",
      "l research are suggested\n"
     ]
    }
   ],
   "source": [
    "print_txt(articles[11])"
   ]
  },
  {
   "cell_type": "code",
   "execution_count": 17,
   "metadata": {},
   "outputs": [
    {
     "name": "stdout",
     "output_type": "stream",
     "text": [
      "{'domin', 'aircraft', 'high', 'speed', 'factor', 'structur', 'design'}\n",
      "Position: 1, Doc id: 11, RSV score: 28.546\n",
      "Position: 2, Doc id: 1379, RSV score: 24.549\n",
      "Position: 3, Doc id: 657, RSV score: 21.379\n",
      "Position: 4, Doc id: 746, RSV score: 21.379\n",
      "Position: 5, Doc id: 415, RSV score: 20.926\n",
      "Position: 6, Doc id: 171, RSV score: 17.755\n",
      "Position: 7, Doc id: 327, RSV score: 17.755\n",
      "Position: 8, Doc id: 877, RSV score: 17.755\n",
      "Position: 9, Doc id: 1050, RSV score: 17.755\n",
      "Position: 10, Doc id: 1245, RSV score: 17.755\n"
     ]
    }
   ],
   "source": [
    "bim.pseudo_relevance_feedback(\"dominating factors in structural design of high-speed aircraft\",k=5)"
   ]
  }
 ],
 "metadata": {
  "kernelspec": {
   "display_name": "ap2021",
   "language": "python",
   "name": "python3"
  },
  "language_info": {
   "codemirror_mode": {
    "name": "ipython",
    "version": 3
   },
   "file_extension": ".py",
   "mimetype": "text/x-python",
   "name": "python",
   "nbconvert_exporter": "python",
   "pygments_lexer": "ipython3",
   "version": "3.10.9"
  },
  "orig_nbformat": 4,
  "vscode": {
   "interpreter": {
    "hash": "23fde5cccd6017400e1556215805741cd39fccd04b809b9d9398efb02ec1d881"
   }
  }
 },
 "nbformat": 4,
 "nbformat_minor": 2
}
