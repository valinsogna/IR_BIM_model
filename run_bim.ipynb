{
 "cells": [
  {
   "cell_type": "code",
   "execution_count": 15,
   "metadata": {},
   "outputs": [],
   "source": [
    "import pickle\n",
    "#from import_data import *\n",
    "from functions import *\n",
    "from bim import *\n"
   ]
  },
  {
   "cell_type": "code",
   "execution_count": 2,
   "metadata": {},
   "outputs": [],
   "source": [
    "with open(\"data/articles.pkl\", \"rb\") as f:\n",
    "    articles = pickle.load(f)\n",
    "\n",
    "with open(\"data/queries.pkl\", \"rb\") as f:\n",
    "    queries = pickle.load(f)\n",
    "\n",
    "with open(\"data/relevance.pkl\", \"rb\") as f:\n",
    "    relevance = pickle.load(f)\n",
    "\n",
    "with open(\"data/bim.pkl\", \"rb\") as f:\n",
    "    bim = pickle.load(f)"
   ]
  },
  {
   "cell_type": "code",
   "execution_count": 3,
   "metadata": {},
   "outputs": [],
   "source": [
    "# choose a query number\n",
    "n=5"
   ]
  },
  {
   "cell_type": "code",
   "execution_count": 4,
   "metadata": {},
   "outputs": [
    {
     "name": "stdout",
     "output_type": "stream",
     "text": [
      "Position: 1, Doc id: 115, RSV score: 19.565\n",
      "Position: 2, Doc id: 259, RSV score: 17.53\n",
      "Position: 3, Doc id: 320, RSV score: 17.53\n",
      "Position: 4, Doc id: 389, RSV score: 17.53\n",
      "Position: 5, Doc id: 121, RSV score: 17.334\n",
      "Position: 6, Doc id: 111, RSV score: 15.299\n",
      "Position: 7, Doc id: 114, RSV score: 15.299\n",
      "Position: 8, Doc id: 242, RSV score: 15.299\n",
      "Position: 9, Doc id: 113, RSV score: 13.652\n",
      "Position: 10, Doc id: 321, RSV score: 13.652\n"
     ]
    }
   ],
   "source": [
    "bim.print_first_k_rel_docs(queries[n])"
   ]
  },
  {
   "cell_type": "code",
   "execution_count": 5,
   "metadata": {},
   "outputs": [
    {
     "name": "stdout",
     "output_type": "stream",
     "text": [
      "The precision is: 0.6, the recall is: 0.462\n"
     ]
    }
   ],
   "source": [
    "bim.precision_recall(queries[n], relevance[n])"
   ]
  },
  {
   "cell_type": "code",
   "execution_count": 6,
   "metadata": {},
   "outputs": [
    {
     "name": "stdout",
     "output_type": "stream",
     "text": [
      "Position: 1, Doc id: 115, RSV score: 24.965\n",
      "Position: 2, Doc id: 259, RSV score: 24.597\n",
      "Position: 3, Doc id: 320, RSV score: 24.597\n",
      "Position: 4, Doc id: 389, RSV score: 24.597\n",
      "Position: 5, Doc id: 121, RSV score: 22.337\n",
      "Position: 6, Doc id: 111, RSV score: 21.969\n",
      "Position: 7, Doc id: 114, RSV score: 21.969\n",
      "Position: 8, Doc id: 242, RSV score: 21.969\n",
      "Position: 9, Doc id: 237, RSV score: 20.676\n",
      "Position: 10, Doc id: 241, RSV score: 20.676\n",
      "Position: 11, Doc id: 113, RSV score: 17.13\n",
      "Position: 12, Doc id: 321, RSV score: 17.13\n",
      "Position: 13, Doc id: 244, RSV score: 16.761\n",
      "Position: 14, Doc id: 117, RSV score: 15.702\n",
      "Position: 15, Doc id: 310, RSV score: 15.702\n"
     ]
    }
   ],
   "source": [
    "bim.relevance_feedback(queries[n], relevance[n],15)"
   ]
  },
  {
   "cell_type": "code",
   "execution_count": 7,
   "metadata": {},
   "outputs": [
    {
     "name": "stdout",
     "output_type": "stream",
     "text": [
      "The precision is: 0.8, the recall is: 0.615\n"
     ]
    }
   ],
   "source": [
    "bim.precision_recall(queries[n], relevance[n])"
   ]
  },
  {
   "cell_type": "code",
   "execution_count": 8,
   "metadata": {},
   "outputs": [
    {
     "name": "stdout",
     "output_type": "stream",
     "text": [
      "The precision is: 0.5, the recall is: 0.312\n"
     ]
    }
   ],
   "source": [
    "bim.precision_recall(queries[13], relevance[13])"
   ]
  },
  {
   "cell_type": "code",
   "execution_count": 9,
   "metadata": {},
   "outputs": [
    {
     "name": "stdout",
     "output_type": "stream",
     "text": [
      "Position: 1, Doc id: 22, RSV score: 30.714\n",
      "Position: 2, Doc id: 28, RSV score: 26.46\n",
      "Position: 3, Doc id: 25, RSV score: 26.334\n",
      "Position: 4, Doc id: 370, RSV score: 23.67\n",
      "Position: 5, Doc id: 24, RSV score: 23.411\n",
      "Position: 6, Doc id: 462, RSV score: 18.686\n",
      "Position: 7, Doc id: 454, RSV score: 16.776\n",
      "Position: 8, Doc id: 458, RSV score: 14.582\n",
      "Position: 9, Doc id: 456, RSV score: 13.645\n",
      "Position: 10, Doc id: 364, RSV score: 12.407\n"
     ]
    }
   ],
   "source": [
    "bim.pseudo_relevance_feedback(queries[13],k=2)"
   ]
  },
  {
   "cell_type": "code",
   "execution_count": 10,
   "metadata": {},
   "outputs": [
    {
     "name": "stdout",
     "output_type": "stream",
     "text": [
      "The precision is: 0.8, the recall is: 0.5\n"
     ]
    }
   ],
   "source": [
    "bim.precision_recall(queries[13], relevance[13])"
   ]
  },
  {
   "cell_type": "code",
   "execution_count": 11,
   "metadata": {},
   "outputs": [
    {
     "name": "stdout",
     "output_type": "stream",
     "text": [
      "The mean average precision is: 0.748\n"
     ]
    }
   ],
   "source": [
    "bim.mean_average_precision(list(range(29)), queries, relevance)"
   ]
  },
  {
   "cell_type": "code",
   "execution_count": 12,
   "metadata": {},
   "outputs": [
    {
     "name": "stdout",
     "output_type": "stream",
     "text": [
      "The R-precision is: 0.5\n"
     ]
    }
   ],
   "source": [
    "bim.r_precision(queries[2], relevance[2])"
   ]
  },
  {
   "cell_type": "code",
   "execution_count": 13,
   "metadata": {},
   "outputs": [
    {
     "name": "stdout",
     "output_type": "stream",
     "text": [
      "the concentration of nonesterified fatty acids in maternal and fetal plasma in intact alloxandiabetic and xrayirradiated rats determinations of the nonesterified fatty acids in the plasma of pregnant rats showed that there do not exist any increases in the concentrations depending on pregnancy during the period from the th nd day of pregnancy in the fetal plasma the concentrations of nonesterified fatty acids only amounted to per cent of the maternal values with alloxan diabetes produced days prior to the test the concentration in the maternal plasma increased three to fivefold while at the same time a significant rise was absent in fetal plasma with slightly increased average values wholebody xray exposures dose r dose output rmin of nonpregnant female and of pregnant rats beginning on the th day of pregnancy did not result in any changes of the concentration of nonesterified fatty acids immediately after irradiation\n"
     ]
    }
   ],
   "source": [
    "print_article(articles[n])"
   ]
  },
  {
   "cell_type": "code",
   "execution_count": 14,
   "metadata": {},
   "outputs": [
    {
     "name": "stdout",
     "output_type": "stream",
     "text": [
      "Position: 1, Doc id: 4, RSV score: 6.421\n",
      "Position: 2, Doc id: 0, RSV score: 5.613\n",
      "Position: 3, Doc id: 5, RSV score: 5.613\n",
      "Position: 4, Doc id: 331, RSV score: 5.613\n",
      "Position: 5, Doc id: 757, RSV score: 5.613\n",
      "Position: 6, Doc id: 11, RSV score: 4.579\n",
      "Position: 7, Doc id: 880, RSV score: 4.579\n",
      "Position: 8, Doc id: 303, RSV score: 3.324\n",
      "Position: 9, Doc id: 326, RSV score: 3.324\n",
      "Position: 10, Doc id: 328, RSV score: 3.324\n"
     ]
    }
   ],
   "source": [
    "bim.print_first_k_rel_docs(\"maternal plasma and fetal body\")"
   ]
  },
  {
   "cell_type": "code",
   "execution_count": null,
   "metadata": {},
   "outputs": [],
   "source": []
  }
 ],
 "metadata": {
  "kernelspec": {
   "display_name": "ap2021",
   "language": "python",
   "name": "python3"
  },
  "language_info": {
   "codemirror_mode": {
    "name": "ipython",
    "version": 3
   },
   "file_extension": ".py",
   "mimetype": "text/x-python",
   "name": "python",
   "nbconvert_exporter": "python",
   "pygments_lexer": "ipython3",
   "version": "3.9.7"
  },
  "orig_nbformat": 4,
  "vscode": {
   "interpreter": {
    "hash": "23fde5cccd6017400e1556215805741cd39fccd04b809b9d9398efb02ec1d881"
   }
  }
 },
 "nbformat": 4,
 "nbformat_minor": 2
}
