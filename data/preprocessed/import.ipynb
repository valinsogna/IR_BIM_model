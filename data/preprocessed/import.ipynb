{
 "cells": [
  {
   "cell_type": "code",
   "execution_count": 7,
   "metadata": {},
   "outputs": [],
   "source": [
    "from collections import defaultdict\n",
    "import numpy as np\n",
    "import re\n",
    "import pickle\n",
    "\n",
    "PATH_TO_CRAN_TXT = '../cran/cran.all.1400'\n",
    "PATH_TO_CRAN_QRY = '../cran/cran.qry'\n",
    "PATH_TO_CRAN_REL = '../cran/cranqrel_bin.txt'\n",
    "\n",
    "# Regex to split the text into chuncks at the start of the marker\n",
    "I_marker = re.compile('\\.I.')# for articles and queries\n",
    "ABTW_marker = re.compile('\\.[A,B,T,W]')# for articles\n",
    "W_marker = re.compile('\\.[W]') # for queries\n",
    "\n",
    "def import_data(PATH_TO_FILE, marker_docId):\n",
    "  \"\"\"\n",
    "  Reads the file and splits the text into entries at the ID marker '.I'.\n",
    "  The first entry is empty, so it is removed.\n",
    "\n",
    "  Input:\n",
    "    PATH_TO_FILE: path to the file to be read\n",
    "    marker_docId: regex at which we want to split the text\n",
    "  Output:\n",
    "    lines: list of strings, each string is an entry of the file\n",
    "\n",
    "  \"\"\"\n",
    "  lines = []\n",
    "  try:\n",
    "    with open (PATH_TO_FILE,'r') as f:\n",
    "      text = f.read().replace('\\n',\" \")\n",
    "      lines = re.split(marker_docId,text)\n",
    "      lines.pop(0) # removes the first empty entry\n",
    "\n",
    "  except:\n",
    "      print(\"File doesn't exist\")\n",
    "      \n",
    "  return lines\n",
    " \n",
    "\n",
    "def get_text_only(doc, marker_text):\n",
    "  \"\"\"\n",
    "    Splits the text into chunks at the start of each tag, and saves only the entries included in the '.W' tag. \n",
    "    Then it removes non-alphabetic characters and non-whitespace.\n",
    "\n",
    "    Input:\n",
    "      doc: list of strings, each string is an entry of the file\n",
    "      marker_text: regex at which we want to split the text\n",
    "    Output:\n",
    "      doc_tokens: list of lists, each list contains the text of an entry of the file\n",
    "  \"\"\"\n",
    "  doc_tokens = []\n",
    "  for line in doc:\n",
    "    #Split the text into chunks at the start of each tag\n",
    "    entries= re.split(marker_text,line) \n",
    "    #Save only entries included in .W tag\n",
    "    text = entries[4 if len(entries) > 2 else 1]\n",
    "    #Remove non-alphabetic characters nd non-whitespace characters from text\n",
    "    text = re.sub(r'[^a-zA-Z\\s]+', '', text)\n",
    "    #text = text.lower() # convert to lowercase\n",
    "    #For each id, append a list of lists containing the text in articles\n",
    "    doc_tokens.append(text.split()) # split the text into words removing the whitespaces\n",
    "  return doc_tokens\n",
    "\n",
    "\n",
    "def import_relevance(PATH_TO_FILE):\n",
    "  \"\"\"\n",
    "  Imports all the relevant articles for each query, returning a dictionary.\n",
    "  The keys are the IDs (numbers) of the queries and the values are the docIDs only \n",
    "  of the relevant documents to that query (aka the one with forth column value 1).\n",
    "  It is used to give user feedback in the relevance feedback.\n",
    "\n",
    "  Input:\n",
    "    PATH_TO_FILE: path to the file to be read\n",
    "  Output:\n",
    "    relevance: dictionary\n",
    "  \"\"\"\n",
    "  cran_rel_data = None\n",
    "\n",
    "  try:\n",
    "    cran_rel_data = open(PATH_TO_FILE, 'r')\n",
    "  except:\n",
    "    print(\"File doesn't exist\")\n",
    "\n",
    "  cran_np = np.loadtxt(cran_rel_data, dtype=int)\n",
    "\n",
    "  relevance = defaultdict(set)\n",
    "  for row in cran_np:\n",
    "    if row[3] == 1:\n",
    "      relevance[row[0]-1].add(row[2]-1)\n",
    "    \n",
    "  return relevance"
   ]
  },
  {
   "cell_type": "code",
   "execution_count": 8,
   "metadata": {},
   "outputs": [],
   "source": [
    "txt_list = import_data(PATH_TO_CRAN_TXT, I_marker)\n",
    "qry_list = import_data(PATH_TO_CRAN_QRY, I_marker)\n",
    "\n",
    "articles = get_text_only(txt_list, ABTW_marker)\n",
    "queries = get_text_only(qry_list, W_marker)\n",
    "relevance = import_relevance(PATH_TO_CRAN_REL)"
   ]
  },
  {
   "cell_type": "code",
   "execution_count": 9,
   "metadata": {},
   "outputs": [
    {
     "name": "stdout",
     "output_type": "stream",
     "text": [
      "{11, 12, 13, 14, 141, 28, 29, 30, 36, 50, 51, 183, 184, 56, 55, 65, 194, 461, 857, 858, 94, 101, 874, 875, 878, 879, 496, 377}\n"
     ]
    }
   ],
   "source": [
    "# Get the list of docIDs for first term in relevance dictionary\n",
    "print(list(relevance.values())[0])\n",
    "# Print "
   ]
  },
  {
   "cell_type": "code",
   "execution_count": 10,
   "metadata": {},
   "outputs": [
    {
     "name": "stdout",
     "output_type": "stream",
     "text": [
      "['similarity', 'laws', 'for', 'stressing', 'heated', 'wings', 'it', 'will', 'be', 'shown', 'that', 'the', 'differential', 'equations', 'for', 'a', 'heated', 'plate', 'with', 'large', 'temperature', 'gradient', 'and', 'for', 'a', 'similar', 'plate', 'at', 'constant', 'temperature', 'can', 'be', 'made', 'the', 'same', 'by', 'a', 'proper', 'modification', 'of', 'the', 'thickness', 'and', 'the', 'loading', 'for', 'the', 'isothermal', 'plate', 'this', 'fact', 'leads', 'to', 'the', 'result', 'that', 'the', 'stresses', 'in', 'the', 'heated', 'plate', 'can', 'be', 'calculated', 'from', 'measured', 'strains', 'on', 'the', 'unheated', 'plate', 'by', 'a', 'series', 'of', 'relations', 'called', 'the', 'similarity', 'laws', 'the', 'application', 'of', 'this', 'analog', 'theory', 'to', 'solid', 'wings', 'under', 'aerodynamic', 'heating', 'is', 'discussed', 'in', 'detail', 'the', 'loading', 'on', 'the', 'unheated', 'analog', 'wing', 'is', 'however', 'complicated', 'and', 'involves', 'the', 'novel', 'concept', 'of', 'feedback', 'and', 'body', 'force', 'loading', 'the', 'problem', 'of', 'stressing', 'a', 'heated', 'boxwing', 'structure', 'can', 'be', 'solved', 'by', 'the', 'same', 'analog', 'method', 'and', 'is', 'briefly', 'discussed']\n"
     ]
    }
   ],
   "source": [
    "print(articles[12])"
   ]
  },
  {
   "cell_type": "code",
   "execution_count": 11,
   "metadata": {},
   "outputs": [
    {
     "name": "stdout",
     "output_type": "stream",
     "text": [
      "['what', 'similarity', 'laws', 'must', 'be', 'obeyed', 'when', 'constructing', 'aeroelastic', 'models', 'of', 'heated', 'high', 'speed', 'aircraft']\n"
     ]
    }
   ],
   "source": [
    "# Get first query\n",
    "print(queries[0])"
   ]
  },
  {
   "cell_type": "code",
   "execution_count": 12,
   "metadata": {},
   "outputs": [],
   "source": [
    "with open(\"articles.pkl\",'wb') as f:\n",
    "    pickle.dump(articles,f)\n",
    "\n",
    "with open(\"queries.pkl\",'wb') as f:\n",
    "    pickle.dump(queries,f)\n",
    "\n",
    "with open(\"relevance.pkl\",'wb') as f:\n",
    "    pickle.dump(relevance,f)"
   ]
  }
 ],
 "metadata": {
  "kernelspec": {
   "display_name": "base",
   "language": "python",
   "name": "python3"
  },
  "language_info": {
   "codemirror_mode": {
    "name": "ipython",
    "version": 3
   },
   "file_extension": ".py",
   "mimetype": "text/x-python",
   "name": "python",
   "nbconvert_exporter": "python",
   "pygments_lexer": "ipython3",
   "version": "3.10.9"
  },
  "orig_nbformat": 4
 },
 "nbformat": 4,
 "nbformat_minor": 2
}
