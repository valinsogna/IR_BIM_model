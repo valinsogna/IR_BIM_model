{
 "cells": [
  {
   "cell_type": "code",
   "execution_count": 1,
   "metadata": {},
   "outputs": [],
   "source": [
    "from collections import defaultdict\n",
    "import numpy as np\n",
    "import re\n",
    "import pickle\n",
    "import string\n",
    "import sys\n",
    "# adding utils to the system path\n",
    "sys.path.insert(0, '../../utils')\n",
    "from functions import make_tokens\n",
    "\n",
    "\n",
    "PATH_TO_CRAN_TXT = '../cran/cran.all.1400'\n",
    "PATH_TO_CRAN_QRY = '../cran/cran.qry'\n",
    "PATH_TO_CRAN_REL = '../cran/cranqrel_bin.txt'\n",
    "\n",
    "punctuation = set(string.punctuation)\n",
    "\n",
    "# Regex to split the text into chuncks at the start of the marker\n",
    "I_marker = re.compile('\\.I.')# for articles and queries\n",
    "ABTW_marker = re.compile('\\.[ABTW]')# for articles\n",
    "W_marker = re.compile('\\.[W]') # for queries\n",
    "\n",
    "def import_data(PATH_TO_FILE, marker_docId):\n",
    "  \"\"\"\n",
    "  Reads the file and splits the text into entries at the ID marker '.I'.\n",
    "  The first entry is empty, so it is removed.\n",
    "\n",
    "  Input:\n",
    "    PATH_TO_FILE: path to the file to be read\n",
    "    marker_docId: regex at which we want to split the text\n",
    "  Output:\n",
    "    lines: list of strings, each string is an entry of the file\n",
    "\n",
    "  \"\"\"\n",
    "  lines = []\n",
    "  try:\n",
    "    with open (PATH_TO_FILE,'r') as f:\n",
    "      text = f.read().replace('\\n',\" \")\n",
    "      lines = re.split(marker_docId,text)\n",
    "      lines.pop(0) # removes the first empty entry\n",
    "\n",
    "  except:\n",
    "      print(\"File doesn't exist\")\n",
    "      \n",
    "  return lines\n",
    " \n",
    "\n",
    "def get_text_only(txt_list, marker_text):\n",
    "  \"\"\"\n",
    "    It removes punctuation, divide strings by char '-', converts the text to lowercase and removes non alphabetical characters.\n",
    "    It returns a list of lists, each list contains the text content (the one inside .W tag) of an entry of the file txt_list.\n",
    "\n",
    "    Input:\n",
    "      txt_list: list of strings, each string is an entry of the file.\n",
    "      marker_text: regex at which we want to split the text\n",
    "    Output:\n",
    "      doc_tokens: list of list of tokens for each article. Each token is a lowercase string and punctuation is removed.\n",
    "  \"\"\"\n",
    "\n",
    "  docs_tokens = []\n",
    "\n",
    "  for line in txt_list:\n",
    "      # Split the text into chunks at the start of each tag\n",
    "      entries = re.split(marker_text, line)\n",
    "\n",
    "      # Save only entries included in .W tag\n",
    "      text_content = entries[4] if len(entries) > 2 else entries[1]\n",
    "\n",
    "      text_content = make_tokens(text_content)\n",
    "      docs_tokens.append(text_content)\n",
    "\n",
    "  return docs_tokens\n",
    "\n",
    "\n",
    "def import_relevance(PATH_TO_FILE):\n",
    "  \"\"\"\n",
    "  Imports all the relevant articles for each query, returning a dictionary.\n",
    "  The keys are the IDs (numbers) of the queries and the values are the docIDs only \n",
    "  of the relevant documents to that query (aka the one with forth column value 1).\n",
    "  It is used to give user feedback in the relevance feedback.\n",
    "\n",
    "  Input:\n",
    "    PATH_TO_FILE: path to the file to be read\n",
    "  Output:\n",
    "    relevance: dictionary\n",
    "  \"\"\"\n",
    "  cran_rel_data = None\n",
    "\n",
    "  try:\n",
    "    cran_rel_data = open(PATH_TO_FILE, 'r')\n",
    "  except:\n",
    "    print(\"File doesn't exist\")\n",
    "\n",
    "  cran_np = np.loadtxt(cran_rel_data, dtype=int)\n",
    "\n",
    "  relevance = defaultdict(set)\n",
    "  for row in cran_np:\n",
    "    if row[3] == 1:\n",
    "      relevance[row[0]-1].add(row[2]-1)\n",
    "    \n",
    "  return relevance\n"
   ]
  },
  {
   "cell_type": "code",
   "execution_count": 2,
   "metadata": {},
   "outputs": [],
   "source": [
    "txt_list = import_data(PATH_TO_CRAN_TXT, I_marker)\n",
    "qry_list = import_data(PATH_TO_CRAN_QRY, I_marker)\n",
    "\n",
    "articles = get_text_only(txt_list, ABTW_marker)\n",
    "queries = get_text_only(qry_list, W_marker)\n",
    "relevance = import_relevance(PATH_TO_CRAN_REL)"
   ]
  },
  {
   "cell_type": "code",
   "execution_count": 48,
   "metadata": {},
   "outputs": [
    {
     "name": "stdout",
     "output_type": "stream",
     "text": [
      "{11, 12, 13, 14, 141, 28, 29, 30, 36, 50, 51, 183, 184, 56, 55, 65, 194, 461, 857, 858, 94, 101, 874, 875, 878, 879, 496, 377}\n"
     ]
    }
   ],
   "source": [
    "# Get the list of docIDs for first term in relevance dictionary\n",
    "print(list(relevance.values())[0])\n",
    "# Print "
   ]
  },
  {
   "cell_type": "code",
   "execution_count": 3,
   "metadata": {},
   "outputs": [
    {
     "name": "stdout",
     "output_type": "stream",
     "text": [
      "['piston', 'theory', 'a', 'new', 'aerodynamic', 'tool', 'for', 'the', 'aeroelastician', 'representative']\n",
      "['applications', 'are', 'described', 'which', 'illustrate', 'the', 'extent', 'to', 'which', 'simplifications']\n",
      "['in', 'the', 'solutions', 'of', 'high', 'speed', 'unsteady', 'aeroelastic', 'problems', 'can']\n",
      "['be', 'achieved', 'through', 'the', 'use', 'of', 'certain', 'aerodynamic', 'techniques', 'known']\n",
      "['collectively', 'as', 'piston', 'theory', 'based', 'on', 'a', 'physical', 'model', 'originally']\n",
      "['proposed', 'by', 'hayes', 'and', 'lighthill', 'piston', 'theory', 'for', 'airfoils', 'and']\n",
      "['finite', 'wings', 'has', 'been', 'systematically', 'developed', 'by', 'landahl', 'utilizing', 'expansions']\n",
      "['in', 'powers', 'of', 'the', 'thickness', 'ratio', 'and', 'the', 'inverse', 'of']\n",
      "['the', 'flight', 'mach', 'number', 'm', 'when', 'contributions', 'of', 'orders', 'and']\n",
      "['are', 'negligible', 'the', 'theory', 'predicts', 'a', 'point', 'function', 'relationship', 'between']\n",
      "['the', 'local', 'pressure', 'on', 'the', 'surface', 'of', 'a', 'wing', 'and']\n",
      "['the', 'normal', 'component', 'of', 'fluid', 'velocity', 'produced', 'by', 'the', 'wing']\n",
      "['s', 'motion', 'the', 'computation', 'of', 'generalized', 'forces', 'in', 'aeroelastic', 'equations']\n",
      "['such', 'as', 'the', 'flutter', 'determinant', 'is', 'then', 'always', 'reduced', 'to']\n",
      "['elementary', 'integrations', 'of', 'the', 'assumed', 'modes', 'of', 'motion', 'essentially', 'closed']\n",
      "['form', 'solutions', 'are', 'given', 'for', 'the', 'bending', 'torsion', 'and', 'control']\n",
      "['surface', 'flutter', 'properties', 'of', 'typical', 'section', 'airfoils', 'at', 'high', 'mach']\n",
      "['numbers', 'these', 'agree', 'well', 'with', 'results', 'of', 'more', 'exact', 'theories']\n",
      "['wherever', 'comparisons', 'can', 'be', 'fairly', 'made', 'moreover', 'they', 'demonstrate', 'the']\n",
      "['increasingly', 'important', 'influence', 'of', 'thickness', 'and', 'profile', 'shape', 'as', 'm']\n",
      "['grows', 'larger', 'a', 'discovery', 'that', 'would', 'be', 'almost', 'impossible', 'using']\n",
      "['other', 'available', 'aerodynamic', 'tools', 'the', 'complexity', 'of', 'more', 'practical', 'flutter']\n",
      "['analyses', 'eg', 'on', 'three', 'dimensional', 'wings', 'and', 'panels', 'is', 'shown']\n",
      "['to', 'be', 'substantially', 'reduced', 'by', 'piston', 'theory', 'an', 'iterative', 'procedure']\n",
      "['is', 'outlined', 'by', 'which', 'improved', 'flutter', 'eigenvalues', 'can', 'be', 'found']\n",
      "['through', 'the', 'successive', 'introduction', 'of', 'higher', 'order', 'terms', 'in', 'and']\n",
      "['other', 'applications', 'to', 'unsteady', 'supersonic', 'problems', 'are', 'reviewed', 'including', 'gust']\n",
      "['response', 'and', 'rapid', 'maneuvers', 'of', 'elastic', 'aircraft', 'steady', 'state', 'aeroelastic']\n",
      "['calculations', 'are', 'also', 'discussed', 'but', 'for', 'them', 'piston', 'theory', 'amounts']\n",
      "['only', 'to', 'a', 'slight', 'modification', 'of', 'ackeret', 's', 'formulas', 'suggestions']\n",
      "['are', 'made', 'regarding', 'future', 'research', 'based', 'on', 'the', 'new', 'aerodynamic']\n",
      "['method', 'with', 'particular', 'emphasis', 'on', 'areas', 'where', 'computational', 'labor', 'can']\n",
      "['be', 'reduced', 'with', 'a', 'minimum', 'loss', 'of', 'precision', 'it', 'is']\n",
      "['pointed', 'out', 'that', 'a', 'mach', 'number', 'zone', 'exists', 'where', 'thermal']\n",
      "['effects', 'are', 'appreciable', 'but', 'nonlinear', 'viscous', 'interactions', 'may', 'be', 'neglected']\n",
      "['and', 'that', 'in', 'this', 'zone', 'piston', 'theory', 'is', 'the', 'logical']\n",
      "['way', 'of', 'estimating', 'air', 'loads', 'when', 'analyzing', 'aerodynamic', 'thermoelastic', 'interaction']\n",
      "['problems']\n",
      "371\n"
     ]
    }
   ],
   "source": [
    "#print(articles[13])\n",
    "# Print articles[13] by a table of 10 words per row\n",
    "for i in range(0, len(articles[13]), 10):\n",
    "    print(articles[13][i:i+10])\n",
    "print(len(articles[13]))"
   ]
  },
  {
   "cell_type": "code",
   "execution_count": 50,
   "metadata": {},
   "outputs": [
    {
     "name": "stdout",
     "output_type": "stream",
     "text": [
      "piston theory a new aerodynamic tool for the aeroelastician representative applications are described which illustrate the extent to which simplifications in the solutions of high speed unsteady aeroelastic problems can be achieved through the use of certain aerodynamic techniques known collectively as piston theory based on a physical model originally proposed by hayes and lighthill piston theory for airfoils and finite wings has been systematically developed by landahl utilizing expansions in powers of the thickness ratio and the inverse of the flight mach number m when contributions of orders and are negligible the theory predicts a point function relationship between the local pressure on the surface of a wing and the normal component of fluid velocity produced by the wing s motion the computation of generalized forces in aeroelastic equations such as the flutter determinant is then always reduced to elementary integrations of the assumed modes of motion essentially closed form solutions are given for the bending torsion and control surface flutter properties of typical section airfoils at high mach numbers these agree well with results of more exact theories wherever comparisons can be fairly made moreover they demonstrate the increasingly important influence of thickness and profile shape as m grows larger a discovery that would be almost impossible using other available aerodynamic tools the complexity of more practical flutter analyses eg on three dimensional wings and panels is shown to be substantially reduced by piston theory an iterative procedure is outlined by which improved flutter eigenvalues can be found through the successive introduction of higher order terms in and other applications to unsteady supersonic problems are reviewed including gust response and rapid maneuvers of elastic aircraft steady state aeroelastic calculations are also discussed but for them piston theory amounts only to a slight modification of ackeret s formulas suggestions are made regarding future research based on the new aerodynamic method with particular emphasis on areas where computational labor can be reduced with a minimum loss of precision it is pointed out that a mach number zone exists where thermal effects are appreciable but nonlinear viscous interactions may be neglected and that in this zone piston theory is the logical way of estimating air loads when analyzing aerodynamic thermoelastic interaction problems\n"
     ]
    }
   ],
   "source": [
    "# Print articles[13] in a smart way\n",
    "print(' '.join(articles[13]))\n"
   ]
  },
  {
   "cell_type": "code",
   "execution_count": 7,
   "metadata": {},
   "outputs": [
    {
     "name": "stdout",
     "output_type": "stream",
     "text": [
      "has anyone formally determined the influence of joule heating produced by the induced current in magnetohydrodynamic free convection flows under general conditions\n"
     ]
    }
   ],
   "source": [
    "# Get first query\n",
    "print(' '.join(queries[19]))"
   ]
  },
  {
   "cell_type": "code",
   "execution_count": 12,
   "metadata": {},
   "outputs": [],
   "source": [
    "with open(\"articles.pkl\",'wb') as f:\n",
    "    pickle.dump(articles,f)\n",
    "\n",
    "with open(\"queries.pkl\",'wb') as f:\n",
    "    pickle.dump(queries,f)\n",
    "\n",
    "with open(\"relevance.pkl\",'wb') as f:\n",
    "    pickle.dump(relevance,f)"
   ]
  }
 ],
 "metadata": {
  "kernelspec": {
   "display_name": "base",
   "language": "python",
   "name": "python3"
  },
  "language_info": {
   "codemirror_mode": {
    "name": "ipython",
    "version": 3
   },
   "file_extension": ".py",
   "mimetype": "text/x-python",
   "name": "python",
   "nbconvert_exporter": "python",
   "pygments_lexer": "ipython3",
   "version": "3.10.9"
  },
  "orig_nbformat": 4
 },
 "nbformat": 4,
 "nbformat_minor": 2
}
