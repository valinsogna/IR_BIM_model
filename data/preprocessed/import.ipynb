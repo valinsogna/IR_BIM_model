{
 "cells": [
  {
   "cell_type": "code",
   "execution_count": 33,
   "metadata": {},
   "outputs": [
    {
     "name": "stderr",
     "output_type": "stream",
     "text": [
      "[nltk_data] Downloading package punkt to\n",
      "[nltk_data]     /Users/valeriainsogna/nltk_data...\n",
      "[nltk_data]   Package punkt is already up-to-date!\n"
     ]
    }
   ],
   "source": [
    "from collections import defaultdict\n",
    "import numpy as np\n",
    "import re\n",
    "import pickle\n",
    "import string\n",
    "# To use nltk, install databases on your machine\n",
    "import nltk\n",
    "nltk.download('punkt')\n",
    "from nltk.tokenize import word_tokenize\n",
    "\n",
    "PATH_TO_CRAN_TXT = '../cran/cran.all.1400'\n",
    "PATH_TO_CRAN_QRY = '../cran/cran.qry'\n",
    "PATH_TO_CRAN_REL = '../cran/cranqrel_bin.txt'\n",
    "\n",
    "punctuation = set(string.punctuation)\n",
    "\n",
    "# Regex to split the text into chuncks at the start of the marker\n",
    "I_marker = re.compile('\\.I.')# for articles and queries\n",
    "ABTW_marker = re.compile('\\.[A,B,T,W]')# for articles\n",
    "W_marker = re.compile('\\.[W]') # for queries\n",
    "\n",
    "def import_data(PATH_TO_FILE, marker_docId):\n",
    "  \"\"\"\n",
    "  Reads the file and splits the text into entries at the ID marker '.I'.\n",
    "  The first entry is empty, so it is removed.\n",
    "\n",
    "  Input:\n",
    "    PATH_TO_FILE: path to the file to be read\n",
    "    marker_docId: regex at which we want to split the text\n",
    "  Output:\n",
    "    lines: list of strings, each string is an entry of the file\n",
    "\n",
    "  \"\"\"\n",
    "  lines = []\n",
    "  try:\n",
    "    with open (PATH_TO_FILE,'r') as f:\n",
    "      text = f.read().replace('\\n',\" \")\n",
    "      lines = re.split(marker_docId,text)\n",
    "      lines.pop(0) # removes the first empty entry\n",
    "\n",
    "  except:\n",
    "      print(\"File doesn't exist\")\n",
    "      \n",
    "  return lines\n",
    " \n",
    "\n",
    "def get_text_only(doc, marker_text):\n",
    "  \"\"\"\n",
    "    Splits the text into chunks at the start of each tag, and saves only the entries included in the '.W' tag. \n",
    "    Then it removes non-alphabetic characters and non-whitespace.\n",
    "\n",
    "    Input:\n",
    "      doc: list of strings, each string is an entry of the file\n",
    "      marker_text: regex at which we want to split the text\n",
    "    Output:\n",
    "      doc_tokens: list of list of tokens for each article. Each token is a lowercase string and punctuation is removed.\n",
    "  \"\"\"\n",
    "  doc_tokens = []\n",
    "  for line in doc:\n",
    "    #Split the text into chunks at the start of each tag\n",
    "    entries= re.split(marker_text,line) \n",
    "    #Save only entries included in .W tag\n",
    "    text = entries[4 if len(entries) > 2 else 1]\n",
    "    #Set to lowercase the terms in text and remove punctuation from text, saving it in a list to be appended to doc_tokens.\n",
    "    #Replace '-' with ' ' to avoid words like 'non-linear' to be considered as a single word.\n",
    "    text = text.replace('-',' ')\n",
    "    toks = [word.casefold() for word in word_tokenize(text) if word not in punctuation]\n",
    "    #Remove non alphabetical characters and non-whitespace from toks\n",
    "    doc_tokens.append([re.sub(r'[^a-zA-Z\\s+]','',word) for word in toks if word != ''])\n",
    "\n",
    "  return doc_tokens\n",
    "\n",
    "\n",
    "def import_relevance(PATH_TO_FILE):\n",
    "  \"\"\"\n",
    "  Imports all the relevant articles for each query, returning a dictionary.\n",
    "  The keys are the IDs (numbers) of the queries and the values are the docIDs only \n",
    "  of the relevant documents to that query (aka the one with forth column value 1).\n",
    "  It is used to give user feedback in the relevance feedback.\n",
    "\n",
    "  Input:\n",
    "    PATH_TO_FILE: path to the file to be read\n",
    "  Output:\n",
    "    relevance: dictionary\n",
    "  \"\"\"\n",
    "  cran_rel_data = None\n",
    "\n",
    "  try:\n",
    "    cran_rel_data = open(PATH_TO_FILE, 'r')\n",
    "  except:\n",
    "    print(\"File doesn't exist\")\n",
    "\n",
    "  cran_np = np.loadtxt(cran_rel_data, dtype=int)\n",
    "\n",
    "  relevance = defaultdict(set)\n",
    "  for row in cran_np:\n",
    "    if row[3] == 1:\n",
    "      relevance[row[0]-1].add(row[2]-1)\n",
    "    \n",
    "  return relevance\n"
   ]
  },
  {
   "cell_type": "code",
   "execution_count": 35,
   "metadata": {},
   "outputs": [],
   "source": [
    "txt_list = import_data(PATH_TO_CRAN_TXT, I_marker)\n",
    "qry_list = import_data(PATH_TO_CRAN_QRY, I_marker)\n",
    "\n",
    "articles = get_text_only(txt_list, ABTW_marker)\n",
    "queries = get_text_only(qry_list, W_marker)\n",
    "relevance = import_relevance(PATH_TO_CRAN_REL)"
   ]
  },
  {
   "cell_type": "code",
   "execution_count": 9,
   "metadata": {},
   "outputs": [
    {
     "name": "stdout",
     "output_type": "stream",
     "text": [
      "{11, 12, 13, 14, 141, 28, 29, 30, 36, 50, 51, 183, 184, 56, 55, 65, 194, 461, 857, 858, 94, 101, 874, 875, 878, 879, 496, 377}\n"
     ]
    }
   ],
   "source": [
    "# Get the list of docIDs for first term in relevance dictionary\n",
    "print(list(relevance.values())[0])\n",
    "# Print "
   ]
  },
  {
   "cell_type": "code",
   "execution_count": 36,
   "metadata": {},
   "outputs": [
    {
     "name": "stdout",
     "output_type": "stream",
     "text": [
      "['piston', 'theory', 'a', 'new', 'aerodynamic', 'tool', 'for', 'the', 'aeroelastician', 'representative']\n",
      "['applications', 'are', 'described', 'which', 'illustrate', 'the', 'extent', 'to', 'which', 'simplifications']\n",
      "['in', 'the', 'solutions', 'of', 'high', 'speed', 'unsteady', 'aeroelastic', 'problems', 'can']\n",
      "['be', 'achieved', 'through', 'the', 'use', 'of', 'certain', 'aerodynamic', 'techniques', 'known']\n",
      "['collectively', 'as', 'piston', 'theory', '', 'based', 'on', 'a', 'physical', 'model']\n",
      "['originally', 'proposed', 'by', 'hayes', 'and', 'lighthill', 'piston', 'theory', 'for', 'airfoils']\n",
      "['and', 'finite', 'wings', 'has', 'been', 'systematically', 'developed', 'by', 'landahl', 'utilizing']\n",
      "['expansions', 'in', 'powers', 'of', 'the', 'thickness', 'ratio', 'and', 'the', 'inverse']\n",
      "['of', 'the', 'flight', 'mach', 'number', 'm', 'when', 'contributions', 'of', 'orders']\n",
      "['and', 'are', 'negligible', 'the', 'theory', 'predicts', 'a', 'point', 'function', 'relationship']\n",
      "['between', 'the', 'local', 'pressure', 'on', 'the', 'surface', 'of', 'a', 'wing']\n",
      "['and', 'the', 'normal', 'component', 'of', 'fluid', 'velocity', 'produced', 'by', 'the']\n",
      "['wing', 's', 'motion', 'the', 'computation', 'of', 'generalized', 'forces', 'in', 'aeroelastic']\n",
      "['equations', 'such', 'as', 'the', 'flutter', 'determinant', 'is', 'then', 'always', 'reduced']\n",
      "['to', 'elementary', 'integrations', 'of', 'the', 'assumed', 'modes', 'of', 'motion', 'essentially']\n",
      "['closed', 'form', 'solutions', 'are', 'given', 'for', 'the', 'bending', 'torsion', 'and']\n",
      "['control', 'surface', 'flutter', 'properties', 'of', 'typical', 'section', 'airfoils', 'at', 'high']\n",
      "['mach', 'numbers', 'these', 'agree', 'well', 'with', 'results', 'of', 'more', 'exact']\n",
      "['theories', 'wherever', 'comparisons', 'can', 'be', 'fairly', 'made', 'moreover', 'they', 'demonstrate']\n",
      "['the', 'increasingly', 'important', 'influence', 'of', 'thickness', 'and', 'profile', 'shape', 'as']\n",
      "['m', 'grows', 'larger', 'a', 'discovery', 'that', 'would', 'be', 'almost', 'impossible']\n",
      "['using', 'other', 'available', 'aerodynamic', 'tools', 'the', 'complexity', 'of', 'more', 'practical']\n",
      "['flutter', 'analyses', 'eg']\n"
     ]
    }
   ],
   "source": [
    "#print(articles[13])\n",
    "# Print articles[13] by a table of 10 words per row\n",
    "for i in range(0, len(articles[13]), 10):\n",
    "    print(articles[13][i:i+10])\n"
   ]
  },
  {
   "cell_type": "code",
   "execution_count": 11,
   "metadata": {},
   "outputs": [
    {
     "name": "stdout",
     "output_type": "stream",
     "text": [
      "['what', 'similarity', 'laws', 'must', 'be', 'obeyed', 'when', 'constructing', 'aeroelastic', 'models', 'of', 'heated', 'high', 'speed', 'aircraft']\n"
     ]
    }
   ],
   "source": [
    "# Get first query\n",
    "print(queries[0])"
   ]
  },
  {
   "cell_type": "code",
   "execution_count": 12,
   "metadata": {},
   "outputs": [],
   "source": [
    "with open(\"articles.pkl\",'wb') as f:\n",
    "    pickle.dump(articles,f)\n",
    "\n",
    "with open(\"queries.pkl\",'wb') as f:\n",
    "    pickle.dump(queries,f)\n",
    "\n",
    "with open(\"relevance.pkl\",'wb') as f:\n",
    "    pickle.dump(relevance,f)"
   ]
  }
 ],
 "metadata": {
  "kernelspec": {
   "display_name": "base",
   "language": "python",
   "name": "python3"
  },
  "language_info": {
   "codemirror_mode": {
    "name": "ipython",
    "version": 3
   },
   "file_extension": ".py",
   "mimetype": "text/x-python",
   "name": "python",
   "nbconvert_exporter": "python",
   "pygments_lexer": "ipython3",
   "version": "3.10.9"
  },
  "orig_nbformat": 4
 },
 "nbformat": 4,
 "nbformat_minor": 2
}
