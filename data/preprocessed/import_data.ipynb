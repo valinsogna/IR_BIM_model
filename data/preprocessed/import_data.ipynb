{
 "cells": [
  {
   "cell_type": "code",
   "execution_count": 34,
   "metadata": {},
   "outputs": [],
   "source": [
    "import re\n",
    "from collections import defaultdict, OrderedDict\n",
    "import pickle\n",
    "import numpy as np"
   ]
  },
  {
   "cell_type": "code",
   "execution_count": 2,
   "metadata": {},
   "outputs": [],
   "source": [
    "PATH_TO_CRAN_TXT = '../cran/cran.all.1400'\n",
    "PATH_TO_CRAN_QRY = '../cran/cran.qry'\n",
    "PATH_TO_CRAN_REL = '../cran/cranqrel'"
   ]
  },
  {
   "cell_type": "code",
   "execution_count": 4,
   "metadata": {},
   "outputs": [],
   "source": [
    "ID_marker = re.compile('\\.I.')# regex to split the text at the ID marker\n",
    "\n",
    "def get_data(PATH_TO_FILE, marker_docId):\n",
    "  \"\"\"\n",
    "  Reads the file and splits the text into entries at the ID marker '.I'.\n",
    "  The first entry is empty, so it is removed.\n",
    "  'marker' contains the regex at which we want to split\n",
    "  \"\"\"\n",
    "  lines = []\n",
    "  try:\n",
    "    with open (PATH_TO_FILE,'r') as f:\n",
    "      text = f.read().replace('\\n',\" \")\n",
    "      lines = re.split(marker_docId,text)\n",
    "      lines.pop(0) # removes the first empty entry\n",
    "\n",
    "  except:\n",
    "      print(\"File doesn't exist\")\n",
    "      \n",
    "  return lines\n",
    " \n",
    "txt_list = get_data(PATH_TO_CRAN_TXT, ID_marker)\n",
    "qry_list = get_data(PATH_TO_CRAN_QRY, ID_marker)"
   ]
  },
  {
   "cell_type": "code",
   "execution_count": 18,
   "metadata": {},
   "outputs": [
    {
     "name": "stdout",
     "output_type": "stream",
     "text": [
      "1 .T experimental investigation of the aerodynamics of a wing in a slipstream . .A brenckman,m. .B j. ae. scs. 25, 1958, 324. .W experimental investigation of the aerodynamics of a wing in a slipstream .   an experimental study of a wing in a propeller slipstream was made in order to determine the spanwise distribution of the lift increase due to slipstream at different angles of attack of the wing and at different free stream to slipstream velocity ratios .  the results were intended in part as an evaluation basis for different theoretical treatments of this problem .   the comparative span loading curves, together with supporting evidence, showed that a substantial part of the lift increment produced by the slipstream was due to a /destalling/ or boundary-layer-control effect .  the integrated remaining lift increment, after subtracting this destalling lift, was found to agree well with a potential flow theory .   an empirical evaluation of the destalling effects was made for the specific configuration of the experiment . \n",
      "001 .W what similarity laws must be obeyed when constructing aeroelastic models of heated high speed aircraft . \n",
      "1400\n",
      "225\n"
     ]
    }
   ],
   "source": [
    "#View the first entry of the list\n",
    "print(txt_list[0])\n",
    "print(qry_list[0])\n",
    "print(len(txt_list))\n",
    "print(len(qry_list))"
   ]
  },
  {
   "cell_type": "code",
   "execution_count": 15,
   "metadata": {},
   "outputs": [
    {
     "name": "stdout",
     "output_type": "stream",
     "text": [
      "['1 ', ' experimental investigation of the aerodynamics of a wing in a slipstream . ', ' brenckman,m. ', ' j. ae. scs. 25, 1958, 324. ', ' experimental investigation of the aerodynamics of a wing in a slipstream .   an experimental study of a wing in a propeller slipstream was made in order to determine the spanwise distribution of the lift increase due to slipstream at different angles of attack of the wing and at different free stream to slipstream velocity ratios .  the results were intended in part as an evaluation basis for different theoretical treatments of this problem .   the comparative span loading curves, together with supporting evidence, showed that a substantial part of the lift increment produced by the slipstream was due to a /destalling/ or boundary-layer-control effect .  the integrated remaining lift increment, after subtracting this destalling lift, was found to agree well with a potential flow theory .   an empirical evaluation of the destalling effects was made for the specific configuration of the experiment . ']\n",
      "['001 ', ' what similarity laws must be obeyed when constructing aeroelastic models of heated high speed aircraft . ']\n"
     ]
    }
   ],
   "source": [
    "chunk_start = re.compile('\\.[A,B,T,W]')# regex to split the text into chunks at the start of each tag\n",
    "text_start = re.compile('\\.[W]')\n",
    "\n",
    "def get_useful_data(doc, marker_text):\n",
    "  \"\"\"\n",
    "  Reads the file and splits the text into entries at the ID marker '.I'.\n",
    "  The first entry is empty, so it is removed.\n",
    "  'marker' contains the regex at which we want to split\n",
    "  \"\"\"\n",
    "  doc_tokens = []\n",
    "  for line in doc:\n",
    "    entries= re.split(marker_text,line) # splits the text into chunks at the start of each tag\n",
    "    #Save only entries included in .W tag\n",
    "    text = entries[4 if len(entries) > 2 else 1]\n",
    "    #Remove non-alphabetic characters nd non-whitespace characters from text\n",
    "    text = re.sub(r'[^a-zA-Z\\s]+', '', text)\n",
    "    #text = text.lower() # convert to lowercase\n",
    "    #For each id, append a list of lists containing the text in articles\n",
    "    doc_tokens.append(text.split()) # split the text into words removing the whitespaces\n",
    "  return doc_tokens\n",
    "\n",
    " \n",
    "articles = get_useful_data(txt_list, chunk_start)\n",
    "queries = get_useful_data(qry_list, text_start)"
   ]
  },
  {
   "cell_type": "code",
   "execution_count": 20,
   "metadata": {},
   "outputs": [
    {
     "name": "stdout",
     "output_type": "stream",
     "text": [
      "1400\n",
      "225\n",
      "['experimental', 'investigation', 'of', 'the', 'aerodynamics', 'of', 'a', 'wing', 'in', 'a', 'slipstream', 'an', 'experimental', 'study', 'of', 'a', 'wing', 'in', 'a', 'propeller', 'slipstream', 'was', 'made', 'in', 'order', 'to', 'determine', 'the', 'spanwise', 'distribution', 'of', 'the', 'lift', 'increase', 'due', 'to', 'slipstream', 'at', 'different', 'angles', 'of', 'attack', 'of', 'the', 'wing', 'and', 'at', 'different', 'free', 'stream', 'to', 'slipstream', 'velocity', 'ratios', 'the', 'results', 'were', 'intended', 'in', 'part', 'as', 'an', 'evaluation', 'basis', 'for', 'different', 'theoretical', 'treatments', 'of', 'this', 'problem', 'the', 'comparative', 'span', 'loading', 'curves', 'together', 'with', 'supporting', 'evidence', 'showed', 'that', 'a', 'substantial', 'part', 'of', 'the', 'lift', 'increment', 'produced', 'by', 'the', 'slipstream', 'was', 'due', 'to', 'a', 'destalling', 'or', 'boundarylayercontrol', 'effect', 'the', 'integrated', 'remaining', 'lift', 'increment', 'after', 'subtracting', 'this', 'destalling', 'lift', 'was', 'found', 'to', 'agree', 'well', 'with', 'a', 'potential', 'flow', 'theory', 'an', 'empirical', 'evaluation', 'of', 'the', 'destalling', 'effects', 'was', 'made', 'for', 'the', 'specific', 'configuration', 'of', 'the', 'experiment']\n",
      "['what', 'similarity', 'laws', 'must', 'be', 'obeyed', 'when', 'constructing', 'aeroelastic', 'models', 'of', 'heated', 'high', 'speed', 'aircraft']\n"
     ]
    }
   ],
   "source": [
    "# Lenght of the list articles\n",
    "print(len(articles))\n",
    "print(len(queries))\n",
    "print(articles[0])\n",
    "print(queries[0])"
   ]
  },
  {
   "cell_type": "code",
   "execution_count": 24,
   "metadata": {},
   "outputs": [],
   "source": [
    "cran_rel = defaultdict(list)\n",
    " \n",
    "with open (PATH_TO_CRAN_REL,'r') as f:\n",
    "  for line in f:\n",
    "    line = re.split(' ',line)\n",
    "    cran_rel[int(line[0])].append(line[1]) # append the relevant documents to the query id"
   ]
  },
  {
   "cell_type": "code",
   "execution_count": 32,
   "metadata": {},
   "outputs": [
    {
     "name": "stdout",
     "output_type": "stream",
     "text": [
      "(1, ['184', '29', '31', '12', '51', '102', '13', '14', '15', '57', '378', '859', '185', '30', '37', '52', '142', '195', '875', '56', '66', '95', '462', '497', '858', '876', '879', '880', '486'])\n"
     ]
    }
   ],
   "source": [
    "# Print the first entry of the dictionary\n",
    "print(list(cran_rel.items())[0])\n"
   ]
  },
  {
   "cell_type": "code",
   "execution_count": 38,
   "metadata": {},
   "outputs": [],
   "source": [
    "cran_rel_data = open(PATH_TO_CRAN_REL)\n",
    "cran_np = np.loadtxt(cran_rel_data, dtype=int)\n",
    " \n",
    "relevance = defaultdict(set)\n",
    "for row in cran_np:\n",
    "  relevance[row[0]].add(tuple(row[1:]))"
   ]
  },
  {
   "cell_type": "code",
   "execution_count": 40,
   "metadata": {},
   "outputs": [
    {
     "name": "stdout",
     "output_type": "stream",
     "text": [
      "(1, {(497, 3), (14, 4), (37, 3), (30, 3), (57, 2), (12, 3), (102, 3), (56, 3), (879, 3), (378, 2), (51, 3), (875, 2), (13, 4), (486, -1), (462, 4), (15, 4), (184, 2), (95, 3), (185, 3), (52, 4), (876, 3), (195, 4), (859, 2), (66, 3), (858, 3), (880, 3), (29, 2), (31, 2), (142, 4)})\n"
     ]
    }
   ],
   "source": [
    "#Print the first entry of the dictionary\n",
    "print(list(relevance.items())[0])"
   ]
  },
  {
   "cell_type": "code",
   "execution_count": 42,
   "metadata": {},
   "outputs": [],
   "source": [
    "with open(\"../articles.pkl\",'wb') as f:\n",
    "    pickle.dump(articles,f)\n",
    "\n",
    "with open(\"../queries.pkl\",'wb') as f:\n",
    "    pickle.dump(queries,f)\n",
    "\n",
    "with open(\"../relevance.pkl\",'wb') as f:\n",
    "    pickle.dump(relevance,f)"
   ]
  }
 ],
 "metadata": {
  "kernelspec": {
   "display_name": "base",
   "language": "python",
   "name": "python3"
  },
  "language_info": {
   "codemirror_mode": {
    "name": "ipython",
    "version": 3
   },
   "file_extension": ".py",
   "mimetype": "text/x-python",
   "name": "python",
   "nbconvert_exporter": "python",
   "pygments_lexer": "ipython3",
   "version": "3.10.9"
  },
  "orig_nbformat": 4
 },
 "nbformat": 4,
 "nbformat_minor": 2
}
